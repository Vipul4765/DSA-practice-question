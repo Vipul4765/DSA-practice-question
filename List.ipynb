{
  "cells": [
    {
      "cell_type": "markdown",
      "metadata": {
        "id": "view-in-github",
        "colab_type": "text"
      },
      "source": [
        "<a href=\"https://colab.research.google.com/github/Vipul4765/DSA-practice-question/blob/main/List.ipynb\" target=\"_parent\"><img src=\"https://colab.research.google.com/assets/colab-badge.svg\" alt=\"Open In Colab\"/></a>"
      ]
    },
    {
      "cell_type": "code",
      "execution_count": null,
      "metadata": {
        "colab": {
          "base_uri": "https://localhost:8080/",
          "height": 87
        },
        "id": "pCZlSrg3SMNg",
        "outputId": "0abfdde8-646a-47b3-9d93-349cb665ed63"
      },
      "outputs": [
        {
          "data": {
            "application/vnd.google.colaboratory.intrinsic+json": {
              "type": "string"
            },
            "text/plain": [
              "'\\n  Array                                             List\\n  1.Array is homogenous                             1.List is heterogenous\\n  2.Array are store in continguous location memory  2.List are not stored in contigous memory\\n  3.Array are much faster then List                 3.List are slower then Array\\n  4.Array are not programmer Friendly               4.List are more programmer friendly\\n  5.Array take less memory                          5.List take more memory\\n'"
            ]
          },
          "execution_count": 190,
          "metadata": {},
          "output_type": "execute_result"
        }
      ],
      "source": [
        "#What is List\n",
        "'''A list is a standard data type in python that can store a sequence of values belong to any type.\n",
        "   The list created within bracket([]) and itme in bracket separated by commas.\n",
        "   1.Pyhton list is referentail arary\n",
        "   2.Store heterogenous array\n",
        "   3.Speed low\n",
        "   4.Memory loss\n",
        "   5.Making coding easy\n",
        "   6.List is Dynamic in nature\n",
        "   7.Dynamic is nothing it is just concept\n",
        "   8.List are mutable in nature\n",
        "   9.Ordered\n",
        "   10.can have duplicate values\n",
        "   11.can be nested\n",
        "   12.item can accessed by using indexing\n",
        "   13.can contain any kind of object in python\n",
        "   size->Adjust-->According to the need'''\n",
        "\n",
        "#Difference between List and Array\n",
        "'''\n",
        "  Array                                             List\n",
        "  1.Array is homogenous                             1.List is heterogenous\n",
        "  2.Array are store in continguous location memory  2.List are not stored in contigous memory\n",
        "  3.Array are much faster then List                 3.List are slower then Array\n",
        "  4.Array are not programmer Friendly               4.List are more programmer friendly\n",
        "  5.Array take less memory                          5.List take more memory\n",
        "'''\n"
      ]
    },
    {
      "cell_type": "code",
      "source": [],
      "metadata": {
        "id": "5oeoHmpLeHee"
      },
      "execution_count": null,
      "outputs": []
    },
    {
      "cell_type": "code",
      "execution_count": null,
      "metadata": {
        "colab": {
          "base_uri": "https://localhost:8080/"
        },
        "id": "riE7NpqQf29w",
        "outputId": "4e8248b6-84a6-423a-fdfb-224161963041"
      },
      "outputs": [
        {
          "name": "stdout",
          "output_type": "stream",
          "text": [
            "<class 'list'>\n"
          ]
        }
      ],
      "source": [
        "#Creating List\n",
        "l = []\n",
        "print(type(l))"
      ]
    },
    {
      "cell_type": "code",
      "execution_count": null,
      "metadata": {
        "colab": {
          "base_uri": "https://localhost:8080/"
        },
        "id": "7Z4PQzvqgPhE",
        "outputId": "889a721f-5c19-4061-db93-3cae561baf32"
      },
      "outputs": [
        {
          "name": "stdout",
          "output_type": "stream",
          "text": [
            "['v', 'i', 'p', 'u', 'l']\n"
          ]
        }
      ],
      "source": [
        "#Creating list using type conversion\n",
        "l = list('vipul')\n",
        "print(l)\n"
      ]
    },
    {
      "cell_type": "code",
      "execution_count": null,
      "metadata": {
        "colab": {
          "base_uri": "https://localhost:8080/"
        },
        "id": "97C-LqLGgjw2",
        "outputId": "30c8da6f-98d0-4948-c874-8f329211c2c5"
      },
      "outputs": [
        {
          "name": "stdout",
          "output_type": "stream",
          "text": [
            "4\n",
            "[2, 3, 4, 5, 6]\n"
          ]
        }
      ],
      "source": [
        "#Accessing item in the list\n",
        "L = [1,2,3,4,5,6]\n",
        "#There are method to accessing/fetching the from list are:-\n",
        "#1.indexing\n",
        "print(L[3])\n",
        "#2.slicing\n",
        "print(L[1:100])"
      ]
    },
    {
      "cell_type": "code",
      "execution_count": null,
      "metadata": {
        "colab": {
          "base_uri": "https://localhost:8080/"
        },
        "id": "u15gyQ5TVA6Y",
        "outputId": "74be94ff-46d6-410b-9293-5a285eae5ed6"
      },
      "outputs": [
        {
          "name": "stdout",
          "output_type": "stream",
          "text": [
            "[10, 20, 30, 40, 50, 40]\n",
            "[10, 20, 30, 40, 50, 40, 60, 70, 80, 90, 100]\n",
            "[5, 10, 20, 30, 40, 50, 40, 60, 70, 80, 90, 100]\n"
          ]
        }
      ],
      "source": [
        "#How to add in list\n",
        "#There are three way to add element in list\n",
        "#1.append\n",
        "#2.extend\n",
        "#3.insert\n",
        "L = [10,20,30,40,50]\n",
        "L.append(40)\n",
        "print(L)\n",
        "L.extend([60,70,80,90,100])\n",
        "print(L)\n",
        "L.insert(0,5)\n",
        "print(L)"
      ]
    },
    {
      "cell_type": "code",
      "execution_count": null,
      "metadata": {
        "colab": {
          "base_uri": "https://localhost:8080/"
        },
        "id": "O_4rXxA2f1-o",
        "outputId": "e3ee22c6-6128-414f-f987-8fcc1bffb86d"
      },
      "outputs": [
        {
          "name": "stdout",
          "output_type": "stream",
          "text": [
            "[3, 4, 5, 6]\n",
            "[3, 4, 5, 8]\n",
            "[3, 1, 2, 3, 4, 5, 6, 7, 8]\n"
          ]
        }
      ],
      "source": [
        "#Editing in List\n",
        "#There are two method to editing the list\n",
        "#1.indexing\n",
        "#2.Slicing\n",
        "L = [3,4,5,6]\n",
        "print(L)\n",
        "L[-1] = 8\n",
        "print(L)\n",
        "L[1:100] = [1,2,3,4,5,6,7,8]\n",
        "print(L)\n"
      ]
    },
    {
      "cell_type": "code",
      "execution_count": null,
      "metadata": {
        "colab": {
          "base_uri": "https://localhost:8080/"
        },
        "id": "vd2ikMNlicet",
        "outputId": "5c5f4518-5c4e-4f19-c594-d3e6113e70de"
      },
      "outputs": [
        {
          "name": "stdout",
          "output_type": "stream",
          "text": [
            "[1, 2, 3, 4, 5, 6]\n",
            "[2, 3, 4, 5, 6]\n",
            "[]\n",
            "[1, 2, 3, 4, 5, 6]\n",
            "[1, 3, 4, 5, 6]\n",
            "[]\n"
          ]
        }
      ],
      "source": [
        "#Deleting item from the list\n",
        "#There are four method to delete the item from list\n",
        "#1.Remove\n",
        "#2.Del\n",
        "#3.pop\n",
        "#4.clear\n",
        "L = [1,2,3,4,5,6,7]\n",
        "L.remove(7)\n",
        "print(L)\n",
        "L.pop(0)\n",
        "print(L)\n",
        "L.clear()\n",
        "print(L)\n",
        "L = [1,2,3,4,5,6]\n",
        "print(L)\n",
        "#by using del keyword -> There are two way   1.indexing  2.slicing\n",
        "del L[1]\n",
        "print(L)\n",
        "del L[:]\n",
        "print(L)\n",
        "\n"
      ]
    },
    {
      "cell_type": "code",
      "execution_count": null,
      "metadata": {
        "id": "jNRQnDV4jO--"
      },
      "outputs": [],
      "source": [
        "#Operations on List\n",
        "#1.Arthimetic operation('+','*')\n",
        "#2.Membership operator\n",
        "#3.Loops"
      ]
    },
    {
      "cell_type": "code",
      "execution_count": null,
      "metadata": {
        "colab": {
          "base_uri": "https://localhost:8080/"
        },
        "id": "H-DDEpqUk9kN",
        "outputId": "3a65e499-def3-47e6-8d17-7cf9c4090e71"
      },
      "outputs": [
        {
          "name": "stdout",
          "output_type": "stream",
          "text": [
            "[1, 2, 34, 5, 6, 7]\n"
          ]
        }
      ],
      "source": [
        "L1 = [1,2,34]\n",
        "L2 = [5,6,7]\n",
        "print(L1 + L2)"
      ]
    },
    {
      "cell_type": "code",
      "execution_count": null,
      "metadata": {
        "colab": {
          "base_uri": "https://localhost:8080/"
        },
        "id": "9vDc8DMGlItE",
        "outputId": "ae26aaf6-ea86-4eb4-ee90-8561dc5be755"
      },
      "outputs": [
        {
          "name": "stdout",
          "output_type": "stream",
          "text": [
            "[1, 2, 3, 4, 1, 2, 3, 4, 1, 2, 3, 4, 1, 2, 3, 4]\n"
          ]
        }
      ],
      "source": [
        "l = [1,2,3,4]\n",
        "print(l*4)"
      ]
    },
    {
      "cell_type": "code",
      "execution_count": null,
      "metadata": {
        "colab": {
          "base_uri": "https://localhost:8080/"
        },
        "id": "eehq387slQCp",
        "outputId": "fdcba06c-d788-408f-df05-dbc4ad5dc73b"
      },
      "outputs": [
        {
          "data": {
            "text/plain": [
              "True"
            ]
          },
          "execution_count": 56,
          "metadata": {},
          "output_type": "execute_result"
        }
      ],
      "source": [
        "1 in l"
      ]
    },
    {
      "cell_type": "code",
      "execution_count": null,
      "metadata": {
        "colab": {
          "base_uri": "https://localhost:8080/"
        },
        "id": "CRrrxIEjlkA-",
        "outputId": "41f6d774-dea1-4544-bac6-93a680212d27"
      },
      "outputs": [
        {
          "name": "stdout",
          "output_type": "stream",
          "text": [
            "True\n",
            "[1, 2, 3, 4]\n"
          ]
        }
      ],
      "source": [
        "print([1,2,3] not in l)\n",
        "print(l)"
      ]
    },
    {
      "cell_type": "code",
      "execution_count": null,
      "metadata": {
        "colab": {
          "base_uri": "https://localhost:8080/"
        },
        "id": "1T_VwtnploWt",
        "outputId": "e9544676-6865-4f83-dfe6-13a70e746d36"
      },
      "outputs": [
        {
          "name": "stdout",
          "output_type": "stream",
          "text": [
            "1\n",
            "3\n",
            "5\n"
          ]
        }
      ],
      "source": [
        "#Loop\n",
        "l = [[1,2],[3,4],[5,6]]\n",
        "for i in l:\n",
        "  print(i[0])"
      ]
    },
    {
      "cell_type": "code",
      "execution_count": null,
      "metadata": {
        "colab": {
          "base_uri": "https://localhost:8080/"
        },
        "id": "irv_QX9BmFUy",
        "outputId": "807145e5-f6a9-437a-ce73-d16509fe44f6"
      },
      "outputs": [
        {
          "name": "stdout",
          "output_type": "stream",
          "text": [
            "5\n",
            "100\n",
            "232\n",
            "9\n",
            "[100, 43, 32, 22, 9, 8, 7, 6, 5]\n",
            "[100, 22, 32, 43, 5, 6, 7, 8, 9]\n",
            "None\n",
            "[5, 6, 7, 8, 9, 22, 32, 43, 100]\n"
          ]
        },
        {
          "data": {
            "text/plain": [
              "0"
            ]
          },
          "execution_count": 70,
          "metadata": {},
          "output_type": "execute_result"
        }
      ],
      "source": [
        "#List Function\n",
        "#There are several function in python\n",
        "#min/max/sum/len/count/sorted/copy/zip\n",
        "L = [100,22,32,43,5,6,7,8,9]\n",
        "print(min(L))\n",
        "print(max(L))\n",
        "print(sum(L))\n",
        "print(len(L))\n",
        "print(sorted(L,reverse = True))\n",
        "print(L)\n",
        "print(L.sort())\n",
        "print(L)\n",
        "L.count(698)\n",
        "\n"
      ]
    },
    {
      "cell_type": "code",
      "execution_count": null,
      "metadata": {
        "colab": {
          "base_uri": "https://localhost:8080/"
        },
        "id": "yoH_0ra5oJMd",
        "outputId": "d741c02c-869e-4cb6-f1b8-c8e4dfe8b55e"
      },
      "outputs": [
        {
          "name": "stdout",
          "output_type": "stream",
          "text": [
            "[5, 6, 7, 8, 9, 22, 32, 43, 100]\n",
            "140372842630336\n",
            "[5, 6, 7, 8, 9, 22, 32, 43, 100]\n",
            "140372835422848\n"
          ]
        }
      ],
      "source": [
        "#copy ->Shallow\n",
        "L1 = L.copy()\n",
        "print(L1)\n",
        "print(id(L1))\n",
        "print(L)\n",
        "print(id(L))"
      ]
    },
    {
      "cell_type": "code",
      "execution_count": null,
      "metadata": {
        "id": "l6GBiKDMo7Om"
      },
      "outputs": [],
      "source": [
        "#List Comphresion --> List comphresion provides more concise way to creating list\n",
        "#Syntax of ListComphresion = [expression for item in iterable if condition == True]"
      ]
    },
    {
      "cell_type": "code",
      "execution_count": null,
      "metadata": {
        "id": "lzbkbx2bpRaH"
      },
      "outputs": [],
      "source": [
        "#Advantage of list over list comphresion\n",
        "#1.More time-effecient and space effecient than loops\n",
        "#2.Require few lines of code\n",
        "#3.Transformation iterative statement into formula"
      ]
    },
    {
      "cell_type": "code",
      "execution_count": null,
      "metadata": {
        "colab": {
          "base_uri": "https://localhost:8080/"
        },
        "id": "uKOS90dKpaXa",
        "outputId": "794bdf32-d8b3-4182-dab4-d97ba44309fd"
      },
      "outputs": [
        {
          "name": "stdout",
          "output_type": "stream",
          "text": [
            "[1, 2, 3, 4, 5, 6, 7, 8, 9, 10]\n"
          ]
        }
      ],
      "source": [
        "#Add 1 to 10 numbers to a list\n",
        "new_list = [i for i in range(1,11)]\n",
        "print(new_list)"
      ]
    },
    {
      "cell_type": "code",
      "execution_count": null,
      "metadata": {
        "colab": {
          "base_uri": "https://localhost:8080/"
        },
        "id": "3fNSLaKh4gOg",
        "outputId": "0b0c64c7-e70f-479d-97b4-2a51948a657a"
      },
      "outputs": [
        {
          "name": "stdout",
          "output_type": "stream",
          "text": [
            "[3, 6, 9, 12, 15]\n"
          ]
        }
      ],
      "source": [
        "#Scalar Multiplication\n",
        "k = 3\n",
        "L = [1,2,3,4,5]\n",
        "new_list = [i*k for i in L]\n",
        "print(new_list)"
      ]
    },
    {
      "cell_type": "code",
      "execution_count": null,
      "metadata": {
        "colab": {
          "base_uri": "https://localhost:8080/"
        },
        "id": "9Ej7ag634tqk",
        "outputId": "07286989-4fb5-46ab-c832-68ebce58d535"
      },
      "outputs": [
        {
          "name": "stdout",
          "output_type": "stream",
          "text": [
            "[1, 4, 9, 16, 25]\n"
          ]
        }
      ],
      "source": [
        "#Add square\n",
        "k = 0\n",
        "l = [1,2,3,4,5]\n",
        "new_list = [i**2 for i in l ]\n",
        "print(new_list)"
      ]
    },
    {
      "cell_type": "code",
      "execution_count": null,
      "metadata": {
        "colab": {
          "base_uri": "https://localhost:8080/"
        },
        "id": "B3N4DoLU48AN",
        "outputId": "ab957d3d-b254-4510-995c-3fccb64233e0"
      },
      "outputs": [
        {
          "name": "stdout",
          "output_type": "stream",
          "text": [
            "[5, 10, 15, 20, 25, 30, 35, 40, 45, 50, 55, 60, 65, 70, 75, 80, 85, 90, 95]\n"
          ]
        }
      ],
      "source": [
        "#Print all number divide by five\n",
        "new_list = [i for i in range(1,100) if i%5==0]\n",
        "print(new_list)"
      ]
    },
    {
      "cell_type": "code",
      "execution_count": null,
      "metadata": {
        "colab": {
          "base_uri": "https://localhost:8080/"
        },
        "id": "la6zL7K76kLm",
        "outputId": "bcefeade-60bd-482c-cdef-2307b326abcf"
      },
      "outputs": [
        {
          "name": "stdout",
          "output_type": "stream",
          "text": [
            "['python', 'php']\n"
          ]
        }
      ],
      "source": [
        "languages = ['java', 'python', 'php', 'c', 'javascript']\n",
        "filtered_languages = [language for language in languages if language.startswith('p')]\n",
        "print(filtered_languages)\n"
      ]
    },
    {
      "cell_type": "code",
      "execution_count": null,
      "metadata": {
        "colab": {
          "base_uri": "https://localhost:8080/"
        },
        "id": "_FMOAKpG65gW",
        "outputId": "f9feaf8e-1b4a-4732-e2a0-0c3beec1a890"
      },
      "outputs": [
        {
          "name": "stdout",
          "output_type": "stream",
          "text": [
            "[[1, 2, 3], [2, 4, 6], [3, 6, 9]]\n"
          ]
        }
      ],
      "source": [
        "#Nested list comphresion\n",
        "print([[i*j for i in range(1,4)] for j in range(1,4)])"
      ]
    },
    {
      "cell_type": "code",
      "execution_count": null,
      "metadata": {
        "id": "TRqrbP-S7fRF"
      },
      "outputs": [],
      "source": [
        "#Zip Object\n",
        "L1 = [1,2,3,4]\n",
        "L2 = [-1,-2,-3,-4]\n",
        "l = list(zip(L1,L2))"
      ]
    },
    {
      "cell_type": "code",
      "execution_count": null,
      "metadata": {
        "colab": {
          "base_uri": "https://localhost:8080/"
        },
        "id": "EublIWsN8Ob2",
        "outputId": "32495707-cf93-4d0c-8ce9-f06e5db497d1"
      },
      "outputs": [
        {
          "name": "stdout",
          "output_type": "stream",
          "text": [
            "[(1, -1), (2, -2), (3, -3), (4, -4)]\n"
          ]
        }
      ],
      "source": [
        "print(l)"
      ]
    },
    {
      "cell_type": "code",
      "execution_count": null,
      "metadata": {
        "colab": {
          "base_uri": "https://localhost:8080/"
        },
        "id": "jYdYt2eW8X7i",
        "outputId": "b9468f1e-861e-46bc-f5d1-8907f96b0dc0"
      },
      "outputs": [
        {
          "data": {
            "text/plain": [
              "[0, 0, 0, 0]"
            ]
          },
          "execution_count": 107,
          "metadata": {},
          "output_type": "execute_result"
        }
      ],
      "source": [
        "#Using list comphresion\n",
        "[i+j for i,j in zip(L1,L2)]"
      ]
    },
    {
      "cell_type": "code",
      "execution_count": null,
      "metadata": {
        "id": "DMX-QS118qNv"
      },
      "outputs": [],
      "source": [
        "#Disadvantage of List\n",
        "#1.Slow\n",
        "#2.Risky Usage\n",
        "#3.eat up more memory\n",
        "#4.Insertion, Deletion are Slow\n",
        "#5.Search is slow"
      ]
    },
    {
      "cell_type": "code",
      "execution_count": null,
      "metadata": {
        "id": "yjsFbwoN9iML"
      },
      "outputs": [],
      "source": [
        "######################           GFG Questions        ##########################"
      ]
    },
    {
      "cell_type": "code",
      "execution_count": null,
      "metadata": {
        "colab": {
          "base_uri": "https://localhost:8080/"
        },
        "id": "1bWne9QU-nXk",
        "outputId": "232445e1-1a74-4abc-bef5-060cb0b9c04b"
      },
      "outputs": [
        {
          "data": {
            "text/plain": [
              "5.0"
            ]
          },
          "execution_count": 113,
          "metadata": {},
          "output_type": "execute_result"
        }
      ],
      "source": [
        "#1. Average of list\n",
        "def average(l):\n",
        "  return sum(l)/len(l)\n",
        "\n",
        "average([1,2,3,4,5,6,7,8,9])"
      ]
    },
    {
      "cell_type": "code",
      "execution_count": null,
      "metadata": {
        "colab": {
          "base_uri": "https://localhost:8080/"
        },
        "id": "uvqiwzB9AESx",
        "outputId": "b1fb768a-a13d-428f-e702-15b363d113ce"
      },
      "outputs": [
        {
          "name": "stdout",
          "output_type": "stream",
          "text": [
            "[2, 4] [1, 3, 5]\n"
          ]
        }
      ],
      "source": [
        "#2.Separate the Even and Odd\n",
        "def even_odd(L):\n",
        "  odd = []\n",
        "  even = []\n",
        "  for i in L:\n",
        "    if i%2==0:\n",
        "      even.append(i)\n",
        "    else:\n",
        "      odd.append(i)\n",
        "  return even,odd\n",
        "k = even_odd([1,2,3,4,5])\n",
        "print(*k)"
      ]
    },
    {
      "cell_type": "code",
      "execution_count": null,
      "metadata": {
        "colab": {
          "base_uri": "https://localhost:8080/"
        },
        "id": "qxwQ1SNIAozM",
        "outputId": "98656f8a-69c6-435c-8876-967cb575bdea"
      },
      "outputs": [
        {
          "name": "stdout",
          "output_type": "stream",
          "text": [
            "[1, 3, 5, 7, 9] [2, 4, 6, 8, 10]\n"
          ]
        }
      ],
      "source": [
        "#By using list comphresion\n",
        "L = [1,2,3,4,5,6,7,8,9,10]\n",
        "odd_number = [i for i in L if i%2!=0]\n",
        "even_number = [i for i in L if i%2==0]\n",
        "print(odd_number,even_number)"
      ]
    },
    {
      "cell_type": "code",
      "execution_count": null,
      "metadata": {
        "colab": {
          "base_uri": "https://localhost:8080/"
        },
        "id": "jWwA1yxZA7b_",
        "outputId": "da271a33-6325-4633-96af-947cd64de158"
      },
      "outputs": [
        {
          "data": {
            "text/plain": [
              "[1, 2, 3, 4]"
            ]
          },
          "execution_count": 120,
          "metadata": {},
          "output_type": "execute_result"
        }
      ],
      "source": [
        "#Get Smaller Elements\n",
        "def smallerelements(l,element):\n",
        "  new_list = []\n",
        "  for i in l:\n",
        "    if i < element:\n",
        "      new_list.append(i)\n",
        "  return new_list\n",
        "smallerelements([1,2,3,4,5,6,7,8,9],5)\n",
        "\n"
      ]
    },
    {
      "cell_type": "code",
      "execution_count": null,
      "metadata": {
        "colab": {
          "base_uri": "https://localhost:8080/"
        },
        "id": "8U4pPppODydc",
        "outputId": "fcf530df-7781-4db8-9aab-d551068c8ee2"
      },
      "outputs": [
        {
          "name": "stdout",
          "output_type": "stream",
          "text": [
            "233545\n"
          ]
        }
      ],
      "source": [
        "#Largest Element in a List\n",
        "def getMax(l):\n",
        "  k = None\n",
        "  for i in l:\n",
        "    if k == None:\n",
        "      k = i\n",
        "    else:\n",
        "      if i > k:\n",
        "        k = i\n",
        "  return k\n",
        "\n",
        "k = getMax([7,2,4,00,99,495,233545,245,324,35])\n",
        "print(k)\n",
        "\n"
      ]
    },
    {
      "cell_type": "code",
      "execution_count": null,
      "metadata": {
        "id": "GwCeIxTXGiab"
      },
      "outputs": [],
      "source": [
        "# second largest element\n",
        "def getSecMax(l):\n",
        "  if len(l) <= 1:\n",
        "    return None\n",
        "  lar = getMax(l)\n",
        "  slar = None\n",
        "  for x in l:\n",
        "    if x!=lar:\n",
        "      if slar == None:\n",
        "        slar = x\n",
        "      else:\n",
        "        slar = max(slar,x)\n",
        "  return slar"
      ]
    },
    {
      "cell_type": "code",
      "execution_count": null,
      "metadata": {
        "colab": {
          "base_uri": "https://localhost:8080/"
        },
        "id": "jUp2kXl2U_2N",
        "outputId": "d91b0762-a8e4-42e7-cfb3-79f0200ad50f"
      },
      "outputs": [
        {
          "data": {
            "text/plain": [
              "6"
            ]
          },
          "execution_count": 131,
          "metadata": {},
          "output_type": "execute_result"
        }
      ],
      "source": [
        "getSecMax([1,9,2,3,4,5,6])"
      ]
    },
    {
      "cell_type": "code",
      "execution_count": null,
      "metadata": {
        "id": "sB5-3wpFVEhM"
      },
      "outputs": [],
      "source": [
        "def getSecMax(l):\n",
        "  if len(l) <= 1:\n",
        "    return None\n",
        "  lar = l[0]\n",
        "  slar = None\n",
        "  for x in l[1:]:\n",
        "    if x > lar:\n",
        "      slar = lar\n",
        "      lar = x\n",
        "    elif x!=lar:\n",
        "      if slar==None or slar<x:\n",
        "        slar = x\n",
        "  return slar\n",
        "\n"
      ]
    },
    {
      "cell_type": "code",
      "execution_count": null,
      "metadata": {
        "colab": {
          "base_uri": "https://localhost:8080/"
        },
        "id": "3YvKHXtkYBQ-",
        "outputId": "ea08c513-1cd4-4647-aca8-c5475ff9f27c"
      },
      "outputs": [
        {
          "data": {
            "text/plain": [
              "532"
            ]
          },
          "execution_count": 136,
          "metadata": {},
          "output_type": "execute_result"
        }
      ],
      "source": [
        "getSecMax([1,2,3,4,5,6,343,2123,4,33,42,43,32,23,532,53,523])"
      ]
    },
    {
      "cell_type": "code",
      "execution_count": null,
      "metadata": {
        "id": "y_fqBQyIYGLn"
      },
      "outputs": [],
      "source": [
        "#Check if a list is sorted\n",
        "def check_sorted(l):\n",
        "  if len(l)==1 or len(l)==0:\n",
        "    return True\n",
        "  i = 1\n",
        "  while i < len(l):\n",
        "    if l[i] < l[i-1]:\n",
        "      return False\n",
        "    i+=1\n",
        "  return True"
      ]
    },
    {
      "cell_type": "code",
      "execution_count": null,
      "metadata": {
        "colab": {
          "base_uri": "https://localhost:8080/"
        },
        "id": "mdB9tKJVZGME",
        "outputId": "22063be2-96f4-4600-a8d9-b77b9652c1ca"
      },
      "outputs": [
        {
          "data": {
            "text/plain": [
              "False"
            ]
          },
          "execution_count": 139,
          "metadata": {},
          "output_type": "execute_result"
        }
      ],
      "source": [
        "check_sorted([9,1,2,3,4,5])"
      ]
    },
    {
      "cell_type": "code",
      "execution_count": null,
      "metadata": {
        "id": "RqVvP_86ZJSN"
      },
      "outputs": [],
      "source": [
        " #Reversing the list\n",
        "def reverseList(l):\n",
        "  s = 0\n",
        "  e = len(l)-1\n",
        "  while s < e:\n",
        "    l[s],l[e] = l[e],l[s]\n",
        "    s+=1\n",
        "    e-=1\n",
        "\n"
      ]
    },
    {
      "cell_type": "code",
      "execution_count": null,
      "metadata": {
        "colab": {
          "base_uri": "https://localhost:8080/"
        },
        "id": "CE0gVSYQaoQx",
        "outputId": "9b2c651c-594a-4aeb-cb5f-9908e82d6ebe"
      },
      "outputs": [
        {
          "name": "stdout",
          "output_type": "stream",
          "text": [
            "[5, 4, 3, 2, 1]\n"
          ]
        }
      ],
      "source": [
        "l = [1,2,3,4,5]\n",
        "reverseList(l)\n",
        "print(l)\n"
      ]
    },
    {
      "cell_type": "code",
      "execution_count": null,
      "metadata": {
        "id": "2N442biRaqri"
      },
      "outputs": [],
      "source": [
        "#Remove Duplicate From Array\n",
        "def removeDuplicate(arr):\n",
        "  n = len(arr)\n",
        "  temp = [0] * n\n",
        "  temp[0] = arr[0]\n",
        "  res = 1\n",
        "  for i in range(1, n):\n",
        "    if temp[res-1] != arr[i]:\n",
        "      temp[res] = arr[i]\n",
        "      res += 1\n",
        "  for i in range(0, res):\n",
        "    arr[i] = temp[i]\n",
        "  return arr[:res]\n",
        "\n",
        "\n"
      ]
    },
    {
      "cell_type": "code",
      "execution_count": null,
      "metadata": {
        "colab": {
          "base_uri": "https://localhost:8080/"
        },
        "id": "cbvv4aDRodMw",
        "outputId": "83136b3d-3b1a-4f66-eb88-aa7002c0cf1d"
      },
      "outputs": [
        {
          "data": {
            "text/plain": [
              "[1, 2, 3, 4]"
            ]
          },
          "execution_count": 173,
          "metadata": {},
          "output_type": "execute_result"
        }
      ],
      "source": [
        "l = [1,1,1,2,3,4]\n",
        "removeDuplicate(l)"
      ]
    },
    {
      "cell_type": "code",
      "execution_count": null,
      "metadata": {
        "id": "qb5mCUOkon5p"
      },
      "outputs": [],
      "source": [
        "def remdup(arr):\n",
        "  n=len(arr)\n",
        "  res = 1\n",
        "  for i in range(1,n):\n",
        "    if arr[i]!=arr[i-1]:\n",
        "      arr[res]=arr[i]\n",
        "      res+=1\n",
        "  return res\n"
      ]
    },
    {
      "cell_type": "code",
      "execution_count": null,
      "metadata": {
        "colab": {
          "base_uri": "https://localhost:8080/"
        },
        "id": "qVtBXpYax29c",
        "outputId": "d9db4958-4f40-49c0-c051-ac46ac93095c"
      },
      "outputs": [
        {
          "data": {
            "text/plain": [
              "5"
            ]
          },
          "execution_count": 178,
          "metadata": {},
          "output_type": "execute_result"
        }
      ],
      "source": [
        "remdup([1,1,2,2,3,4,4,4,5])"
      ]
    },
    {
      "cell_type": "code",
      "execution_count": null,
      "metadata": {
        "id": "xmVzPqxox6ma"
      },
      "outputs": [],
      "source": [
        "def rotateByOne(l):\n",
        "  n = len(l)\n",
        "  x = l[0]\n",
        "  for i in range(1,n):\n",
        "    l[i-1] = l[i]\n",
        "  l[-1] = x"
      ]
    },
    {
      "cell_type": "code",
      "execution_count": null,
      "metadata": {
        "colab": {
          "base_uri": "https://localhost:8080/"
        },
        "id": "yMivsDLdyu6p",
        "outputId": "e3391603-fa4c-4335-eded-2094ee07f1c7"
      },
      "outputs": [
        {
          "name": "stdout",
          "output_type": "stream",
          "text": [
            "[2, 3, 4, 5, 6, 1]\n"
          ]
        }
      ],
      "source": [
        "l = [1,2,3,4,5,6]\n",
        "rotateByOne(l)\n",
        "print(l)"
      ]
    },
    {
      "cell_type": "code",
      "execution_count": null,
      "metadata": {
        "id": "RWuGS12Qy1qq"
      },
      "outputs": [],
      "source": [
        "def oneOddOccuring(arr):\n",
        "  arr_size = len(arr)\n",
        "  for i in range(0,arr_size):\n",
        "    count = 0\n",
        "    for j in range(0,arr_size):\n",
        "      if arr[i] == arr[j]:\n",
        "        count+=1\n",
        "    if count%2!=0:\n",
        "      return arr[i]\n",
        "  return -1"
      ]
    },
    {
      "cell_type": "code",
      "execution_count": null,
      "metadata": {
        "colab": {
          "base_uri": "https://localhost:8080/"
        },
        "id": "iAY7IlrP1q74",
        "outputId": "c4549b8f-755d-4f76-aa7a-929dd6c022bf"
      },
      "outputs": [
        {
          "data": {
            "text/plain": [
              "2"
            ]
          },
          "execution_count": 184,
          "metadata": {},
          "output_type": "execute_result"
        }
      ],
      "source": [
        "arr = [2,3,4,5,5,53,4,56,43,5,5]\n",
        "oneOddOccuring(arr)"
      ]
    },
    {
      "cell_type": "code",
      "execution_count": null,
      "metadata": {
        "id": "bA8kYqKD1_KV"
      },
      "outputs": [],
      "source": [
        "def oddocurring(l):\n",
        "  k = 0\n",
        "  for i in l:\n",
        "    k = k^i\n",
        "  return k"
      ]
    },
    {
      "cell_type": "code",
      "execution_count": null,
      "metadata": {
        "colab": {
          "base_uri": "https://localhost:8080/"
        },
        "id": "7kuxAn8j3yW1",
        "outputId": "4d162e2b-d7d9-4ec4-a70e-1b94c4bd0d49"
      },
      "outputs": [
        {
          "data": {
            "text/plain": [
              "115"
            ]
          },
          "execution_count": 187,
          "metadata": {},
          "output_type": "execute_result"
        }
      ],
      "source": [
        "oddocurring([1,1,2,2,115])"
      ]
    },
    {
      "cell_type": "code",
      "execution_count": null,
      "metadata": {
        "id": "QXPW8a5I33R-"
      },
      "outputs": [],
      "source": [
        "L = [1,2,3,4,5]\n",
        "L.insert(10,99)"
      ]
    },
    {
      "cell_type": "code",
      "execution_count": null,
      "metadata": {
        "colab": {
          "base_uri": "https://localhost:8080/"
        },
        "id": "qq8oNWmj5D-9",
        "outputId": "68ae41c5-c9a0-4347-b060-bc58386aacd4"
      },
      "outputs": [
        {
          "name": "stdout",
          "output_type": "stream",
          "text": [
            "[1, 2, 3, 4, 5, 99]\n"
          ]
        }
      ],
      "source": [
        "print(L)"
      ]
    },
    {
      "cell_type": "code",
      "execution_count": null,
      "metadata": {
        "id": "dX1zTpLs5FYG"
      },
      "outputs": [],
      "source": [
        "import ctypes\n",
        "\n",
        "class DynamicArray:\n",
        "    def __init__(self):\n",
        "        self.capacity = 1\n",
        "        self.size = 0\n",
        "        self.array = self.__create_array(self.capacity)\n",
        "\n",
        "    def index(self, item):\n",
        "        for i in range(self.size):\n",
        "            if self.array[i] == item:\n",
        "                return i\n",
        "        return 'item not found'\n",
        "\n",
        "    def __getitem__(self, index):\n",
        "      if index > -1:\n",
        "        if 0 <= index < self.size:\n",
        "            return self.array[index]\n",
        "        return 'Index Error'\n",
        "      else:\n",
        "        if 1 <= abs(index) < self.size:\n",
        "            return self.array[index]\n",
        "        return 'IndexError'\n",
        "\n",
        "\n",
        "    def __str__(self):\n",
        "        result = ''\n",
        "        for i in range(self.size):\n",
        "            result += str(self.array[i]) + ','\n",
        "        return '[' + result[:-1] + ']'\n",
        "\n",
        "    def __len__(self):\n",
        "        return self.size\n",
        "\n",
        "    def clear(self):\n",
        "        self.size = 0\n",
        "        self.capacity = 1\n",
        "\n",
        "    def pop(self):\n",
        "        if self.size == 0:\n",
        "            return 'Empty List'\n",
        "        popped_element = self.array[self.size - 1]\n",
        "        self.size -= 1\n",
        "        return popped_element\n",
        "\n",
        "    def append(self, element):\n",
        "        if self.size == self.capacity:\n",
        "            self.__resize(2 * self.capacity)\n",
        "        self.array[self.size] = element\n",
        "        self.size += 1\n",
        "\n",
        "    def __create_array(self, capacity):\n",
        "        return (capacity * ctypes.py_object)()\n",
        "\n",
        "    def __resize(self, new_capacity):\n",
        "        new_array = self.__create_array(new_capacity)\n",
        "        for i in range(self.size):\n",
        "            new_array[i] = self.array[i]\n",
        "        self.array = new_array\n",
        "        self.capacity = new_capacity\n",
        "\n",
        "    def insert(self, item, index):\n",
        "        if self.size == self.capacity:\n",
        "            self.__resize(self.capacity * 2)\n",
        "        if index < 0 or index > self.size:\n",
        "            return 'Index out of range'\n",
        "        for i in range(self.size, index, -1):\n",
        "            self.array[i] = self.array[i - 1]\n",
        "        self.array[index] = item\n",
        "        self.size += 1\n",
        "\n",
        "    def __delitem__(self, index):\n",
        "        if 0 <= index < self.size:\n",
        "            for i in range(index, self.size):\n",
        "                self.array[i] = self.array[i + 1]\n",
        "            self.size -= 1\n",
        "        else:\n",
        "            return 'Index out of range'\n",
        "\n",
        "    def remove(self, item):\n",
        "        pos = self.index(item)\n",
        "        if type(pos) == int:\n",
        "            self.__delitem__(pos)\n",
        "        else:\n",
        "            return 'ValueError'\n",
        "\n",
        "    def extend(self,new_list):\n",
        "      if self.size + len(new_list) >= self.capacity:\n",
        "        n = self.size + len(new_list)\n",
        "        self.__resize(self.capacity*n)\n",
        "      for item in new_list:\n",
        "        self.array[self.size] = item\n",
        "        self.size+=1\n",
        "\n",
        "    def __min__(self):\n",
        "        if self.size == 0:\n",
        "            return None\n",
        "        return min(self.array[:self.size])\n",
        "\n",
        "    def __max__(self):\n",
        "        if self.size == 0:\n",
        "            return None\n",
        "        return max(self.array[:self.size])\n",
        "\n",
        "    def __sum__(self):\n",
        "        return sum(self.array[:self.size])\n",
        "\n",
        "    def sort(self):\n",
        "      for i in range(self.size - 1):\n",
        "          for j in range(self.size - i - 1):\n",
        "              if self.array[j] > self.array[j + 1]:\n",
        "                  self.array[j], self.array[j + 1] = self.array[j + 1], self.array[j]\n",
        "\n",
        "    def __contain__(self,item):\n",
        "      for i in self.array:\n",
        "        if item == i:\n",
        "          return True\n",
        "      return False\n",
        "\n",
        "\n",
        "\n",
        "\n",
        "\n",
        "\n",
        "\n",
        "\n",
        "\n",
        "\n",
        "\n",
        "\n",
        "\n",
        "\n",
        "\n",
        "\n",
        "\n",
        "\n",
        "\n",
        "\n"
      ]
    },
    {
      "cell_type": "code",
      "execution_count": null,
      "metadata": {
        "colab": {
          "base_uri": "https://localhost:8080/"
        },
        "id": "F4txEoqqtKr3",
        "outputId": "bd757c64-2acd-4b57-a24e-8e7a7a0315f1"
      },
      "outputs": [
        {
          "output_type": "stream",
          "name": "stdout",
          "text": [
            "[3]\n"
          ]
        }
      ],
      "source": [
        "L = DynamicArray()\n",
        "len(L)\n",
        "L.append(3)\n",
        "\n",
        "print(L)"
      ]
    },
    {
      "cell_type": "code",
      "execution_count": null,
      "metadata": {
        "id": "VdM45ifPuLHZ"
      },
      "outputs": [],
      "source": [
        "L.extend([11,22,34,1,4,2])"
      ]
    },
    {
      "cell_type": "code",
      "execution_count": null,
      "metadata": {
        "colab": {
          "base_uri": "https://localhost:8080/"
        },
        "id": "-mLKGmOhqCNp",
        "outputId": "187acd41-d226-4133-ccbc-b588485ad5dd"
      },
      "outputs": [
        {
          "output_type": "stream",
          "name": "stdout",
          "text": [
            "[3,11,22,34,1,4,2]\n"
          ]
        }
      ],
      "source": [
        "print(L)"
      ]
    },
    {
      "cell_type": "code",
      "execution_count": null,
      "metadata": {
        "id": "IHIZrGd7qDUe"
      },
      "outputs": [],
      "source": [
        "90 in L"
      ]
    },
    {
      "cell_type": "code",
      "execution_count": null,
      "metadata": {
        "id": "w6hJFvd2qGdE"
      },
      "outputs": [],
      "source": [
        "90 not in L"
      ]
    },
    {
      "cell_type": "code",
      "execution_count": null,
      "metadata": {
        "id": "w31KfPmQr532"
      },
      "outputs": [],
      "source": [
        "L.insert(100,3)"
      ]
    },
    {
      "cell_type": "code",
      "execution_count": null,
      "metadata": {
        "id": "7K2ary6suMKG"
      },
      "outputs": [],
      "source": [
        "print(L)"
      ]
    },
    {
      "cell_type": "code",
      "execution_count": null,
      "metadata": {
        "id": "WGaTneo2uOi5"
      },
      "outputs": [],
      "source": [
        "L = [1,2,3,4,5]\n",
        "L.sort()"
      ]
    },
    {
      "cell_type": "code",
      "source": [
        "l = []\n",
        "max(l)"
      ],
      "metadata": {
        "id": "iKGRXvDWl3aV"
      },
      "execution_count": null,
      "outputs": []
    },
    {
      "cell_type": "code",
      "source": [
        "L = [1,2,3,4]\n",
        "2 in L"
      ],
      "metadata": {
        "id": "N3yHLJDGm4xS",
        "outputId": "2fe1ed29-395c-4a6c-8f09-fa2567e919dd",
        "colab": {
          "base_uri": "https://localhost:8080/"
        }
      },
      "execution_count": null,
      "outputs": [
        {
          "output_type": "execute_result",
          "data": {
            "text/plain": [
              "True"
            ]
          },
          "metadata": {},
          "execution_count": 1
        }
      ]
    },
    {
      "cell_type": "code",
      "source": [],
      "metadata": {
        "id": "S4NP94K6uB-v"
      },
      "execution_count": null,
      "outputs": []
    }
  ],
  "metadata": {
    "colab": {
      "provenance": [],
      "authorship_tag": "ABX9TyO8V7wDJrHUA9+MQNDxKUmJ",
      "include_colab_link": true
    },
    "kernelspec": {
      "display_name": "Python 3",
      "name": "python3"
    },
    "language_info": {
      "name": "python"
    }
  },
  "nbformat": 4,
  "nbformat_minor": 0
}