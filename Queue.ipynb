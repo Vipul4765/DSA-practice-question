{
  "nbformat": 4,
  "nbformat_minor": 0,
  "metadata": {
    "colab": {
      "provenance": [],
      "authorship_tag": "ABX9TyMBSohL/ILsjznsURYfV3Ku",
      "include_colab_link": true
    },
    "kernelspec": {
      "name": "python3",
      "display_name": "Python 3"
    },
    "language_info": {
      "name": "python"
    }
  },
  "cells": [
    {
      "cell_type": "markdown",
      "metadata": {
        "id": "view-in-github",
        "colab_type": "text"
      },
      "source": [
        "<a href=\"https://colab.research.google.com/github/Vipul4765/DSA-practice-question/blob/main/Queue.ipynb\" target=\"_parent\"><img src=\"https://colab.research.google.com/assets/colab-badge.svg\" alt=\"Open In Colab\"/></a>"
      ]
    },
    {
      "cell_type": "code",
      "execution_count": null,
      "metadata": {
        "id": "Bn5VBvFAzl1H"
      },
      "outputs": [],
      "source": [
        "class Node:\n",
        "\n",
        "  def __init__(self,data):\n",
        "    self.data = data\n",
        "    self.next = None"
      ]
    },
    {
      "cell_type": "code",
      "source": [
        "class Queue:\n",
        "\n",
        "  def __init__(self):\n",
        "    self.front = None\n",
        "    self.rear = None\n",
        "\n",
        "  def enqueue(self,data):\n",
        "    new_node = Node(data)\n",
        "    if self.rear == None:\n",
        "      self.front = new_node\n",
        "      self.rear = new_node\n",
        "\n",
        "    else:\n",
        "      self.rear.next = new_node\n",
        "      self.rear = new_node\n",
        "\n",
        "  def dequeue(self):\n",
        "    if self.front == None:\n",
        "      return 'Empty'\n",
        "    else:\n",
        "      self.front = self.front.next\n",
        "\n",
        "  def traverse(self):\n",
        "    temp = self.front\n",
        "    while temp!=None:\n",
        "      print(temp.data)\n",
        "      temp = temp.next\n",
        "\n",
        "  def isempty(self):\n",
        "    return self.front == None\n",
        "\n",
        "  def size(self):\n",
        "    result = 0\n",
        "    temp = self.front\n",
        "    while temp != None:\n",
        "      result += 1\n",
        "      temp = temp.next\n",
        "    return result\n",
        "\n",
        "  def front_item(self):\n",
        "    if self.front == None:\n",
        "      return 'None'\n",
        "    return self.front.data\n",
        "\n",
        "  def rear_item(self):\n",
        "    if self.rear == None:\n",
        "      return 'None'\n",
        "    return self.rear.data\n",
        "\n",
        "\n",
        "\n",
        "\n",
        "\n"
      ],
      "metadata": {
        "id": "QsngaeUvz3LK"
      },
      "execution_count": null,
      "outputs": []
    },
    {
      "cell_type": "code",
      "source": [
        "q = Queue()"
      ],
      "metadata": {
        "id": "YuG6IEIZ2I8O"
      },
      "execution_count": null,
      "outputs": []
    },
    {
      "cell_type": "code",
      "source": [
        "q.enqueue(1)\n",
        "q.enqueue(2)\n",
        "q.enqueue(3)\n",
        "q.enqueue(1)"
      ],
      "metadata": {
        "id": "N6RhAQq33ESc"
      },
      "execution_count": null,
      "outputs": []
    },
    {
      "cell_type": "code",
      "source": [
        "q.traverse()"
      ],
      "metadata": {
        "colab": {
          "base_uri": "https://localhost:8080/"
        },
        "id": "Czmi12cD3KnU",
        "outputId": "3d96e1e5-1f1d-4fb0-ea57-76141d8d5589"
      },
      "execution_count": null,
      "outputs": [
        {
          "output_type": "stream",
          "name": "stdout",
          "text": [
            "2\n",
            "3\n",
            "1\n"
          ]
        }
      ]
    },
    {
      "cell_type": "code",
      "source": [
        "q.size()"
      ],
      "metadata": {
        "colab": {
          "base_uri": "https://localhost:8080/"
        },
        "id": "XEj5143i3yND",
        "outputId": "2001be69-8f92-47fb-835d-3df9e3c73381"
      },
      "execution_count": null,
      "outputs": [
        {
          "output_type": "execute_result",
          "data": {
            "text/plain": [
              "3"
            ]
          },
          "metadata": {},
          "execution_count": 41
        }
      ]
    },
    {
      "cell_type": "code",
      "source": [
        "q.dequeue()"
      ],
      "metadata": {
        "id": "D4pLCamN3L_t"
      },
      "execution_count": null,
      "outputs": []
    },
    {
      "cell_type": "code",
      "source": [
        "q.front_item()"
      ],
      "metadata": {
        "colab": {
          "base_uri": "https://localhost:8080/"
        },
        "id": "trctOJv53RVY",
        "outputId": "1040d9dc-560c-4833-f6e0-6209c2b7fa3d"
      },
      "execution_count": null,
      "outputs": [
        {
          "output_type": "execute_result",
          "data": {
            "text/plain": [
              "2"
            ]
          },
          "metadata": {},
          "execution_count": 43
        }
      ]
    },
    {
      "cell_type": "code",
      "source": [
        "q.rear_item()"
      ],
      "metadata": {
        "colab": {
          "base_uri": "https://localhost:8080/"
        },
        "id": "FRCoHUwp4fjj",
        "outputId": "9888bace-c828-4225-d750-18347e09ab00"
      },
      "execution_count": null,
      "outputs": [
        {
          "output_type": "execute_result",
          "data": {
            "text/plain": [
              "1"
            ]
          },
          "metadata": {},
          "execution_count": 44
        }
      ]
    },
    {
      "cell_type": "code",
      "source": [
        "class MyClass:\n",
        "    def __init__(self, value):\n",
        "        self.value = value\n",
        "\n",
        "    def __lt__(self, other):\n",
        "        print(\"__lt__ method called\")\n",
        "        return self.value < other.value\n",
        "\n",
        "obj1 = MyClass(5)\n",
        "obj2 = MyClass(10)\n",
        "print(obj1 < obj2)\n"
      ],
      "metadata": {
        "colab": {
          "base_uri": "https://localhost:8080/"
        },
        "id": "fIMDUjYQ4jin",
        "outputId": "ad3129c9-8d9d-46f5-8a12-da79ef559e7b"
      },
      "execution_count": null,
      "outputs": [
        {
          "output_type": "stream",
          "name": "stdout",
          "text": [
            "__lt__ method called\n",
            "True\n"
          ]
        }
      ]
    },
    {
      "cell_type": "code",
      "source": [],
      "metadata": {
        "id": "HOpx_RPokesk"
      },
      "execution_count": null,
      "outputs": []
    }
  ]
}