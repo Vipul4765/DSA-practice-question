{
  "nbformat": 4,
  "nbformat_minor": 0,
  "metadata": {
    "colab": {
      "provenance": [],
      "toc_visible": true,
      "include_colab_link": true
    },
    "kernelspec": {
      "name": "python3",
      "display_name": "Python 3"
    },
    "language_info": {
      "name": "python"
    }
  },
  "cells": [
    {
      "cell_type": "markdown",
      "metadata": {
        "id": "view-in-github",
        "colab_type": "text"
      },
      "source": [
        "<a href=\"https://colab.research.google.com/github/Vipul4765/DSA-practice-question/blob/main/LinkedList_full_data_structure.ipynb\" target=\"_parent\"><img src=\"https://colab.research.google.com/assets/colab-badge.svg\" alt=\"Open In Colab\"/></a>"
      ]
    },
    {
      "cell_type": "code",
      "execution_count": null,
      "metadata": {
        "id": "rxsKmtJObCfA"
      },
      "outputs": [],
      "source": [
        "#LinkedList - LinkedList is a linear data structure.\n",
        "#Bascially it's store the data on non-linear memory location\n",
        "#Bacially it's a collections of nodes"
      ]
    },
    {
      "cell_type": "code",
      "source": [
        "#node1->node2->node3->None\n",
        "\n",
        "#class of node\n",
        "class Node:\n",
        "  def __init__(self,data):\n",
        "    self.data = data\n",
        "    self.next = None"
      ],
      "metadata": {
        "id": "4Vt0YqHvbs1i"
      },
      "execution_count": null,
      "outputs": []
    },
    {
      "cell_type": "code",
      "source": [
        "a = Node(1)\n",
        "b = Node(2)\n",
        "c = Node(3)"
      ],
      "metadata": {
        "id": "uE9VphIycNDL"
      },
      "execution_count": null,
      "outputs": []
    },
    {
      "cell_type": "code",
      "source": [
        "a.next = b\n",
        "b.next = c\n"
      ],
      "metadata": {
        "id": "EHx4t1qYcRjB"
      },
      "execution_count": null,
      "outputs": []
    },
    {
      "cell_type": "code",
      "source": [
        "print(a.data)\n",
        "print(a.next.data)\n",
        "print(a.next.next.data)"
      ],
      "metadata": {
        "colab": {
          "base_uri": "https://localhost:8080/"
        },
        "id": "wCwBKS8qcT6w",
        "outputId": "bf2a7f4e-05bb-4a22-aed3-047f1ceb59a6"
      },
      "execution_count": null,
      "outputs": [
        {
          "output_type": "stream",
          "name": "stdout",
          "text": [
            "1\n",
            "2\n",
            "3\n"
          ]
        }
      ]
    },
    {
      "cell_type": "code",
      "source": [
        "#class of node\n",
        "class Node:\n",
        "  def __init__(self,data):\n",
        "    self.data = data\n",
        "    self.next = None"
      ],
      "metadata": {
        "id": "iVMRr8qac4Ju"
      },
      "execution_count": 73,
      "outputs": []
    },
    {
      "cell_type": "code",
      "source": [
        "#class of linkedlist\n",
        "class LinkedList:\n",
        "\n",
        "  def __init__(self):\n",
        "    self.head = None\n",
        "    self.n = 0\n",
        "\n",
        "  # method for length of linked list\n",
        "  def __len__(self):\n",
        "    return self.n\n",
        "\n",
        "  def insert_head(self,data):\n",
        "    #creating new node\n",
        "    new_node = Node(data)\n",
        "    #create Connection\n",
        "    new_node.next = self.head\n",
        "    #assign new head\n",
        "    self.head = new_node\n",
        "    #increment\n",
        "    self.n+=1\n",
        "\n",
        "  #traverse the linkedlist\n",
        "  def traverse(self):\n",
        "    temp = self.head\n",
        "    while temp:\n",
        "      print(temp.data)\n",
        "      temp = temp.next\n",
        "\n",
        "  #print the linked list\n",
        "  def __str__(self):\n",
        "    temp = self.head\n",
        "    result = ''\n",
        "    while temp!=None:\n",
        "      result = result + str(temp.data) + '->'\n",
        "      temp = temp.next\n",
        "    return result[:-2]\n",
        "\n",
        "  #append at the last of linkedlist\n",
        "  def append(self,data):\n",
        "    #check for empty linkedlist\n",
        "    if self.head == None:\n",
        "      self.insert_head(data)\n",
        "      return\n",
        "    temp = self.head\n",
        "    #creating the new_node\n",
        "    new_node = Node(data)\n",
        "    while temp.next!=None:\n",
        "      temp = temp.next\n",
        "    temp.next = new_node\n",
        "    self.n+=1\n",
        "\n",
        "  #insert at the middle in the linkedlist\n",
        "  def insert(self, data, item):\n",
        "    temp = self.head\n",
        "    while temp != None:\n",
        "        # case 1 -> item found\n",
        "        if temp.data == data:\n",
        "            new_node = Node(item)\n",
        "            # creating connection\n",
        "            new_node.next = temp.next\n",
        "            temp.next = new_node\n",
        "            # increment\n",
        "            self.n += 1\n",
        "            return  # Exit the function after inserting the item\n",
        "        temp = temp.next\n",
        "\n",
        "    # case 2 -> item not found\n",
        "    return 'Item not found'\n",
        "\n",
        "  #clear the list\n",
        "  def clear(self):\n",
        "    self.n = 0\n",
        "    self.head =None\n",
        "\n",
        "  #delete from head\n",
        "  def delete_head(self):\n",
        "    #check linked not Empty\n",
        "    if self.head!=None:\n",
        "      self.head = self.head.next\n",
        "      self.n-=1\n",
        "      return\n",
        "    return 'Linked Empty'\n",
        "\n",
        "  #pop the element from linkedlist\n",
        "  def pop(self):\n",
        "    #check linked list is not empty\n",
        "    if self.head == None:\n",
        "      return 'Empty LinkedList'\n",
        "    if self.head.next == None:\n",
        "      self.delete_head()\n",
        "      return\n",
        "    temp = self.head\n",
        "    while temp.next.next!=None:\n",
        "      temp = temp.next\n",
        "    temp.next = None\n",
        "    self.n-=1\n",
        "\n",
        "  #delete by value\n",
        "  def remove(self,item):\n",
        "    if self.head == None:\n",
        "      return 'Empty LinkedList'\n",
        "    if self.head.data == item:\n",
        "      self.delete_head()\n",
        "      return\n",
        "    temp = self.head\n",
        "    while temp.next != None:\n",
        "      if temp.next.data == item:\n",
        "        break\n",
        "      temp = temp.next\n",
        "    if temp.next == None:\n",
        "      return 'Item not Found'\n",
        "    else:\n",
        "      temp.next = temp.next.next\n",
        "      self.n-=1\n",
        "\n",
        "  #Searching\n",
        "  def search(self,item):\n",
        "    temp = self.head\n",
        "    pos = 0\n",
        "    while temp!=None:\n",
        "      if temp.data == item:\n",
        "        return pos\n",
        "      temp = temp.next\n",
        "      pos+=1\n",
        "    return 'item not found'\n",
        "\n",
        "  #indexing\n",
        "  def __getitem__(self,index):\n",
        "    temp = self.head\n",
        "    pos = 0\n",
        "    if index >= self.n:\n",
        "      return 'IndexError'\n",
        "    while index!=pos:\n",
        "      temp = temp.next\n",
        "      pos+=1\n",
        "    return temp.data\n",
        "\n",
        "  #Replace Max\n",
        "  def replace_max(self,value):\n",
        "    if self.head == None:\n",
        "      return 'Empty LinkedList'\n",
        "    temp = self.head\n",
        "    temp_address = temp\n",
        "    while temp!=None:\n",
        "      if temp.data > temp_address.data:\n",
        "        temp_address = temp\n",
        "      temp = temp.next\n",
        "    temp_address.data = value\n",
        "\n",
        "  #Replace Min\n",
        "  def replace_min(self,value):\n",
        "    if self.head == None:\n",
        "      return 'Empty Linked List'\n",
        "    temp = self.head\n",
        "    min = temp\n",
        "    while temp!=None:\n",
        "      if temp.data < min.data:\n",
        "        min = temp\n",
        "      temp = temp.next\n",
        "\n",
        "    min.data = value\n",
        "\n",
        "  #Sum of Odd\n",
        "  def sum_odd(self):\n",
        "    pos = 0\n",
        "    result = 0\n",
        "    temp = self.head\n",
        "    while temp!=None:\n",
        "      if pos%2!=0:\n",
        "        result += temp.data\n",
        "      temp = temp.next\n",
        "      pos+=1\n",
        "    return result\n",
        "\n",
        "  #Sum of even\n",
        "  def sum_even(self):\n",
        "    pos = 0\n",
        "    result = 0\n",
        "    temp = self.head\n",
        "    while temp!=None:\n",
        "      if pos%2==0:\n",
        "        result += temp.data\n",
        "      temp = temp.next\n",
        "      pos+=1\n",
        "    return result\n",
        "\n",
        "  #Reverse LinkedList\n",
        "  def reverse(self):\n",
        "    prev_node = None\n",
        "    curr_node = self.head\n",
        "    while curr_node!=None:\n",
        "      next_node = curr_node.next\n",
        "      curr_node.next = prev_node\n",
        "      prev_node = curr_node\n",
        "      curr_node = next_node\n",
        "    self.head = prev_node\n",
        "\n",
        "\n",
        "  def remove_duplicates(self):\n",
        "    temp = self.head\n",
        "\n",
        "    while temp and temp.next:\n",
        "        if temp.data == temp.next.data:\n",
        "            temp.next = temp.next.next\n",
        "            self.n-=1\n",
        "        else:\n",
        "            temp = temp.next\n",
        "\n",
        "\n",
        "  #middle elemen of linked list\n",
        "  def middle_element(self):\n",
        "    temp = self.head\n",
        "    slow = temp\n",
        "    fast = temp\n",
        "    while fast!=None and fast.next!=None:\n",
        "      slow = slow.next\n",
        "      fast = fast.next.next\n",
        "    print(slow.data)\n",
        "\n",
        "  def insert_element_sorted(self,data):\n",
        "    #if head.data > data\n",
        "    if self.head.data >= data:\n",
        "      new_node = Node(data)\n",
        "      new_node.next = self.head\n",
        "      self.head = new_node\n",
        "      self.n+=1\n",
        "      return\n",
        "\n",
        "    new_node = Node(data)\n",
        "    temp = self.head\n",
        "    while temp.next!=None:\n",
        "      if temp.data <= data <= temp.next.data:\n",
        "        new_node.next = temp.next\n",
        "        temp.next = new_node\n",
        "        self.n+=1\n",
        "        return\n",
        "      temp = temp.next\n",
        "      self.n+=1\n",
        "\n",
        "    temp.next = new_node\n",
        "\n",
        "  def printnnodeFromLast(self,pos):\n",
        "    if self.n < pos:\n",
        "      return 'IndexError - Out of range'\n",
        "    temp = self.head\n",
        "    for i in range(pos):\n",
        "      temp = temp.next\n",
        "    slow = self.head\n",
        "    fast = temp\n",
        "    while fast!=None:\n",
        "      slow = slow.next\n",
        "      fast = fast.next\n",
        "    print(slow.data)\n",
        "\n",
        "\n",
        "\n",
        "\n",
        "\n"
      ],
      "metadata": {
        "id": "KN2xyEBsdDVy"
      },
      "execution_count": 102,
      "outputs": []
    },
    {
      "cell_type": "code",
      "source": [
        "L = LinkedList()"
      ],
      "metadata": {
        "id": "9bV9Vdo4e5ZH"
      },
      "execution_count": 95,
      "outputs": []
    },
    {
      "cell_type": "code",
      "source": [
        "L.insert_head(1)\n",
        "L.insert_head(1)\n",
        "L.insert_head(3)\n",
        "L.insert_head(3)\n",
        "L.insert_head(5)\n"
      ],
      "metadata": {
        "id": "h5quFAMmfUa2"
      },
      "execution_count": 96,
      "outputs": []
    },
    {
      "cell_type": "code",
      "source": [
        "L.reverse()"
      ],
      "metadata": {
        "id": "ewiTMW7mfeJ1"
      },
      "execution_count": 97,
      "outputs": []
    },
    {
      "cell_type": "code",
      "source": [
        "print(L)"
      ],
      "metadata": {
        "colab": {
          "base_uri": "https://localhost:8080/"
        },
        "id": "mDigqQhTfg6V",
        "outputId": "af6df13f-4034-4dcf-f7e3-ef8e3966f8a5"
      },
      "execution_count": 98,
      "outputs": [
        {
          "output_type": "stream",
          "name": "stdout",
          "text": [
            "1->1->3->3->5\n"
          ]
        }
      ]
    },
    {
      "cell_type": "code",
      "source": [
        "L.printnnodeFromLast(6)"
      ],
      "metadata": {
        "colab": {
          "base_uri": "https://localhost:8080/",
          "height": 35
        },
        "id": "MlQeBTpo7DeW",
        "outputId": "75ae1cf6-4c46-4c31-f313-f83e747de5a7"
      },
      "execution_count": 100,
      "outputs": [
        {
          "output_type": "execute_result",
          "data": {
            "text/plain": [
              "'IndexError - Out of range'"
            ],
            "application/vnd.google.colaboratory.intrinsic+json": {
              "type": "string"
            }
          },
          "metadata": {},
          "execution_count": 100
        }
      ]
    },
    {
      "cell_type": "code",
      "source": [
        "L.remove_duplicates()"
      ],
      "metadata": {
        "id": "-LzRWcvjgsbL"
      },
      "execution_count": 48,
      "outputs": []
    },
    {
      "cell_type": "code",
      "source": [
        "L.delete_node_last(2)"
      ],
      "metadata": {
        "id": "liFyaIjr5G2O"
      },
      "execution_count": 101,
      "outputs": []
    },
    {
      "cell_type": "code",
      "source": [
        "L.insert_element_sorted(400)"
      ],
      "metadata": {
        "id": "ZRYSaJNm2YUV"
      },
      "execution_count": 46,
      "outputs": []
    },
    {
      "cell_type": "code",
      "source": [
        "L.middle_element()"
      ],
      "metadata": {
        "colab": {
          "base_uri": "https://localhost:8080/"
        },
        "id": "_X7goHyy1Q5h",
        "outputId": "852cb01f-f1b4-441a-90e0-d6e01f1ca87f"
      },
      "execution_count": 10,
      "outputs": [
        {
          "output_type": "stream",
          "name": "stdout",
          "text": [
            "3\n"
          ]
        }
      ]
    },
    {
      "cell_type": "code",
      "source": [
        "L.insert(3,100)"
      ],
      "metadata": {
        "id": "GQiflvELhodF"
      },
      "execution_count": 8,
      "outputs": []
    },
    {
      "cell_type": "code",
      "source": [
        "print(L)"
      ],
      "metadata": {
        "colab": {
          "base_uri": "https://localhost:8080/"
        },
        "id": "-t-xEnTVkYP9",
        "outputId": "e1e324ca-6e60-4881-84f8-03d3d792e0bb"
      },
      "execution_count": null,
      "outputs": [
        {
          "output_type": "stream",
          "name": "stdout",
          "text": [
            "5->3->1\n"
          ]
        }
      ]
    },
    {
      "cell_type": "code",
      "source": [
        "len(L)"
      ],
      "metadata": {
        "colab": {
          "base_uri": "https://localhost:8080/"
        },
        "id": "B6YPPOKHkgWJ",
        "outputId": "d7f590c1-894c-4514-ee57-7d437d5a2c43"
      },
      "execution_count": null,
      "outputs": [
        {
          "output_type": "execute_result",
          "data": {
            "text/plain": [
              "3"
            ]
          },
          "metadata": {},
          "execution_count": 435
        }
      ]
    },
    {
      "cell_type": "code",
      "source": [
        "L.clear()"
      ],
      "metadata": {
        "id": "VuKFyld4m7tg"
      },
      "execution_count": null,
      "outputs": []
    },
    {
      "cell_type": "code",
      "source": [
        "class Node:\n",
        "\n",
        "  def __init__(self,data):\n",
        "    self.data = data\n",
        "    self.next = None"
      ],
      "metadata": {
        "id": "4x8QQkhBnXEk"
      },
      "execution_count": null,
      "outputs": []
    },
    {
      "cell_type": "code",
      "source": [
        "class LL:\n",
        "\n",
        "  def __init__(self):\n",
        "    self.head = None\n",
        "\n",
        "  def add(self, data):\n",
        "    new_node = Node(data)  # Create a new node with the given data\n",
        "    if self.head is None:\n",
        "        self.head = new_node\n",
        "    else:\n",
        "        temp = self.head\n",
        "        while temp.next:\n",
        "            temp = temp.next\n",
        "        temp.next = new_node\n",
        "\n",
        "\n",
        "  def taverse(self):\n",
        "    temp = self.head\n",
        "    while temp:\n",
        "      print(temp.data,end='')\n",
        "      temp = temp.next\n",
        "\n",
        "  def change_sentence(self):\n",
        "    temp = self.head\n",
        "    while temp!=None:\n",
        "      if temp.data == '/' or temp.data == '*':\n",
        "        temp.data = ' '\n",
        "        if temp.next.data == '/' or temp.next.data == '*':\n",
        "          temp.next.next.data = temp.next.next.data.upper()\n",
        "          temp.next = temp.next.next\n",
        "      temp = temp.next\n",
        "\n"
      ],
      "metadata": {
        "id": "V8TDwIqFiZqj"
      },
      "execution_count": null,
      "outputs": []
    },
    {
      "cell_type": "code",
      "source": [
        "L = LL()"
      ],
      "metadata": {
        "id": "rrnobhWejDW_"
      },
      "execution_count": null,
      "outputs": []
    },
    {
      "cell_type": "code",
      "source": [
        "L.taverse()"
      ],
      "metadata": {
        "colab": {
          "base_uri": "https://localhost:8080/"
        },
        "id": "UG3t3Qr4jRPz",
        "outputId": "f7f52a88-d30e-401f-e43e-fe112fec8d4f"
      },
      "execution_count": null,
      "outputs": [
        {
          "output_type": "stream",
          "name": "stdout",
          "text": [
            "THE Sky is Blue"
          ]
        }
      ]
    },
    {
      "cell_type": "code",
      "source": [
        "L.add('T')\n",
        "L.add('H')\n",
        "L.add('E')\n",
        "L.add('*')\n",
        "L.add('/')\n",
        "L.add('s')\n",
        "L.add('k')\n",
        "L.add('y')\n",
        "L.add('*')\n",
        "L.add('i')\n",
        "L.add('s')\n",
        "L.add('/')\n",
        "L.add('/')\n",
        "L.add('b')\n",
        "L.add('l')\n",
        "L.add('u')\n",
        "L.add('e')"
      ],
      "metadata": {
        "id": "kthA86BdjUoS"
      },
      "execution_count": null,
      "outputs": []
    },
    {
      "cell_type": "code",
      "source": [
        "L.change_sentence()"
      ],
      "metadata": {
        "id": "j5FPf2zajcHe"
      },
      "execution_count": null,
      "outputs": []
    },
    {
      "cell_type": "code",
      "source": [],
      "metadata": {
        "id": "sPGwDRZRnV6p"
      },
      "execution_count": null,
      "outputs": []
    }
  ]
}