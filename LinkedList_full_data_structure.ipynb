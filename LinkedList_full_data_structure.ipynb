{
  "nbformat": 4,
  "nbformat_minor": 0,
  "metadata": {
    "colab": {
      "provenance": [],
      "authorship_tag": "ABX9TyPvdoe5HLAbrdonjHnV8n49",
      "include_colab_link": true
    },
    "kernelspec": {
      "name": "python3",
      "display_name": "Python 3"
    },
    "language_info": {
      "name": "python"
    }
  },
  "cells": [
    {
      "cell_type": "markdown",
      "metadata": {
        "id": "view-in-github",
        "colab_type": "text"
      },
      "source": [
        "<a href=\"https://colab.research.google.com/github/Vipul4765/DSA-practice-question/blob/main/LinkedList_full_data_structure.ipynb\" target=\"_parent\"><img src=\"https://colab.research.google.com/assets/colab-badge.svg\" alt=\"Open In Colab\"/></a>"
      ]
    },
    {
      "cell_type": "code",
      "execution_count": null,
      "metadata": {
        "id": "rxsKmtJObCfA"
      },
      "outputs": [],
      "source": [
        "#LinkedList - LinkedList is a linear data structure.\n",
        "#Bascially it's store the data on non-linear memory location\n",
        "#Bacially it's a collections of nodes"
      ]
    },
    {
      "cell_type": "code",
      "source": [
        "#node1->node2->node3->None\n",
        "\n",
        "#class of node\n",
        "class Node:\n",
        "  def __init__(self,data):\n",
        "    self.data = data\n",
        "    self.next = None"
      ],
      "metadata": {
        "id": "4Vt0YqHvbs1i"
      },
      "execution_count": null,
      "outputs": []
    },
    {
      "cell_type": "code",
      "source": [
        "a = Node(1)\n",
        "b = Node(2)\n",
        "c = Node(3)"
      ],
      "metadata": {
        "id": "uE9VphIycNDL"
      },
      "execution_count": null,
      "outputs": []
    },
    {
      "cell_type": "code",
      "source": [
        "a.next = b\n",
        "b.next = c\n"
      ],
      "metadata": {
        "id": "EHx4t1qYcRjB"
      },
      "execution_count": null,
      "outputs": []
    },
    {
      "cell_type": "code",
      "source": [
        "print(a.data)\n",
        "print(a.next.data)\n",
        "print(a.next.next.data)"
      ],
      "metadata": {
        "colab": {
          "base_uri": "https://localhost:8080/"
        },
        "id": "wCwBKS8qcT6w",
        "outputId": "bf2a7f4e-05bb-4a22-aed3-047f1ceb59a6"
      },
      "execution_count": null,
      "outputs": [
        {
          "output_type": "stream",
          "name": "stdout",
          "text": [
            "1\n",
            "2\n",
            "3\n"
          ]
        }
      ]
    },
    {
      "cell_type": "code",
      "source": [
        "#class of node\n",
        "class Node:\n",
        "  def __init__(self,data):\n",
        "    self.data = data\n",
        "    self.next = None"
      ],
      "metadata": {
        "id": "iVMRr8qac4Ju"
      },
      "execution_count": null,
      "outputs": []
    },
    {
      "cell_type": "code",
      "source": [
        "#class of linkedlist\n",
        "class LinkedList:\n",
        "\n",
        "  def __init__(self):\n",
        "    self.head = None\n",
        "    self.n = 0\n",
        "\n",
        "  # method for length of linked list\n",
        "  def __len__(self):\n",
        "    return self.n\n",
        "\n",
        "  def insert_head(self,data):\n",
        "    #creating new node\n",
        "    new_node = Node(data)\n",
        "    #create Connection\n",
        "    new_node.next = self.head\n",
        "    #assign new head\n",
        "    self.head = new_node\n",
        "    #increment\n",
        "    self.n+=1\n",
        "\n",
        "  #traverse the linkedlist\n",
        "  def traverse(self):\n",
        "    temp = self.head\n",
        "    while temp:\n",
        "      print(temp.data)\n",
        "      temp = temp.next\n",
        "\n",
        "  #print the linked list\n",
        "  def __str__(self):\n",
        "    temp = self.head\n",
        "    result = ''\n",
        "    while temp!=None:\n",
        "      result = result + str(temp.data) + '->'\n",
        "      temp = temp.next\n",
        "    return result[:-2]\n",
        "\n",
        "  #append at the last of linkedlist\n",
        "  def append(self,data):\n",
        "    #check for empty linkedlist\n",
        "    if self.head == None:\n",
        "      self.insert_head(data)\n",
        "      return\n",
        "    temp = self.head\n",
        "    #creating the new_node\n",
        "    new_node = Node(data)\n",
        "    while temp.next!=None:\n",
        "      temp = temp.next\n",
        "    temp.next = new_node\n",
        "    self.n+=1\n",
        "\n",
        "  #insert at the middle in the linkedlist\n",
        "  def insert(self, data, item):\n",
        "    temp = self.head\n",
        "    while temp != None:\n",
        "        # case 1 -> item found\n",
        "        if temp.data == data:\n",
        "            new_node = Node(item)\n",
        "            # creating connection\n",
        "            new_node.next = temp.next\n",
        "            temp.next = new_node\n",
        "            # increment\n",
        "            self.n += 1\n",
        "            return  # Exit the function after inserting the item\n",
        "        temp = temp.next\n",
        "\n",
        "    # case 2 -> item not found\n",
        "    return 'Item not found'\n",
        "\n",
        "  #clear the list\n",
        "  def clear(self):\n",
        "    self.n = 0\n",
        "    self.head =None\n",
        "\n",
        "  #delete from head\n",
        "  def delete_head(self):\n",
        "    #check linked not Empty\n",
        "    if self.head!=None:\n",
        "      self.head = self.head.next\n",
        "      self.n-=1\n",
        "      return\n",
        "    return 'Linked Empty'\n",
        "\n",
        "  #pop the element from linkedlist\n",
        "  def pop(self):\n",
        "    #check linked list is not empty\n",
        "    if self.head == None:\n",
        "      return 'Empty LinkedList'\n",
        "    if self.head.next == None:\n",
        "      self.delete_head()\n",
        "      return\n",
        "    temp = self.head\n",
        "    while temp.next.next!=None:\n",
        "      temp = temp.next\n",
        "    temp.next = None\n",
        "    self.n-=1\n",
        "\n",
        "  #delete by value\n",
        "  def remove(self,item):\n",
        "    if self.head == None:\n",
        "      return 'Empty LinkedList'\n",
        "    if self.head.data == item:\n",
        "      self.delete_head()\n",
        "      return\n",
        "    temp = self.head\n",
        "    while temp.next != None:\n",
        "      if temp.next.data == item:\n",
        "        break\n",
        "      temp = temp.next\n",
        "    if temp.next == None:\n",
        "      return 'Item not Found'\n",
        "    else:\n",
        "      temp.next = temp.next.next\n",
        "      self.n-=1\n",
        "\n",
        "  #Searching\n",
        "  def search(self,item):\n",
        "    temp = self.head\n",
        "    pos = 0\n",
        "    while temp!=None:\n",
        "      if temp.data == item:\n",
        "        return pos\n",
        "      temp = temp.next\n",
        "      pos+=1\n",
        "    return 'item not found'\n",
        "\n",
        "  #indexing\n",
        "  def __getitem__(self,index):\n",
        "    temp = self.head\n",
        "    pos = 0\n",
        "    if index >= self.n:\n",
        "      return 'IndexError'\n",
        "    while index!=pos:\n",
        "      temp = temp.next\n",
        "      pos+=1\n",
        "    return temp.data\n",
        "\n",
        "  #Replace Max\n",
        "  def replace_max(self,value):\n",
        "    if self.head == None:\n",
        "      return 'Empty LinkedList'\n",
        "    temp = self.head\n",
        "    temp_address = temp\n",
        "    while temp!=None:\n",
        "      if temp.data > temp_address.data:\n",
        "        temp_address = temp\n",
        "      temp = temp.next\n",
        "    temp_address.data = value\n",
        "\n",
        "  #Replace Min\n",
        "  def replace_min(self,value):\n",
        "    if self.head == None:\n",
        "      return 'Empty Linked List'\n",
        "    temp = self.head\n",
        "    min = temp\n",
        "    while temp!=None:\n",
        "      if temp.data < min.data:\n",
        "        min = temp\n",
        "      temp = temp.next\n",
        "\n",
        "    min.data = value\n",
        "\n",
        "  #Sum of Odd\n",
        "  def sum_odd(self):\n",
        "    pos = 0\n",
        "    result = 0\n",
        "    temp = self.head\n",
        "    while temp!=None:\n",
        "      if pos%2!=0:\n",
        "        result += temp.data\n",
        "      temp = temp.next\n",
        "      pos+=1\n",
        "    return result\n",
        "\n",
        "  #Sum of even\n",
        "  def sum_even(self):\n",
        "    pos = 0\n",
        "    result = 0\n",
        "    temp = self.head\n",
        "    while temp!=None:\n",
        "      if pos%2==0:\n",
        "        result += temp.data\n",
        "      temp = temp.next\n",
        "      pos+=1\n",
        "    return result\n",
        "\n",
        "  #Reverse LinkedList\n",
        "  def reverse(self):\n",
        "    prev_node = None\n",
        "    curr_node = self.head\n",
        "    while curr_node!=None:\n",
        "      next_node = curr_node.next\n",
        "      curr_node.next = prev_node\n",
        "      prev_node = curr_node\n",
        "      curr_node = next_node\n",
        "    self.head = prev_node\n",
        "\n",
        "\n",
        "  def remove_duplicates(self):\n",
        "    temp = self.head\n",
        "\n",
        "    while temp and temp.next:\n",
        "        if temp.data == temp.next.data:\n",
        "            temp.next = temp.next.next\n",
        "            self.n-=1\n",
        "        else:\n",
        "            temp = temp.next\n",
        "\n",
        "\n",
        "\n",
        "\n",
        "\n",
        "\n",
        "\n",
        "\n",
        "\n",
        "\n",
        "\n",
        "\n",
        "\n",
        "\n",
        "\n",
        "\n",
        "\n",
        "\n",
        "\n",
        "\n",
        "\n",
        "\n",
        "\n",
        "\n",
        "\n",
        "\n",
        "\n",
        "\n",
        "\n",
        "\n",
        "\n"
      ],
      "metadata": {
        "id": "KN2xyEBsdDVy"
      },
      "execution_count": null,
      "outputs": []
    },
    {
      "cell_type": "code",
      "source": [
        "L = LinkedList()"
      ],
      "metadata": {
        "id": "9bV9Vdo4e5ZH"
      },
      "execution_count": null,
      "outputs": []
    },
    {
      "cell_type": "code",
      "source": [
        "L.insert_head(1)\n",
        "L.insert_head(1)\n",
        "L.insert_head(3)\n",
        "L.insert_head(3)\n",
        "L.insert_head(5)"
      ],
      "metadata": {
        "id": "h5quFAMmfUa2"
      },
      "execution_count": null,
      "outputs": []
    },
    {
      "cell_type": "code",
      "source": [
        "L.reverse()"
      ],
      "metadata": {
        "id": "ewiTMW7mfeJ1"
      },
      "execution_count": null,
      "outputs": []
    },
    {
      "cell_type": "code",
      "source": [
        "print(L)"
      ],
      "metadata": {
        "colab": {
          "base_uri": "https://localhost:8080/"
        },
        "id": "mDigqQhTfg6V",
        "outputId": "69aadc26-0ccb-4fe1-93ed-58cdb05db10a"
      },
      "execution_count": null,
      "outputs": [
        {
          "output_type": "stream",
          "name": "stdout",
          "text": [
            "5->3->3->1->1\n"
          ]
        }
      ]
    },
    {
      "cell_type": "code",
      "source": [
        "L.remove_duplicates()"
      ],
      "metadata": {
        "id": "-LzRWcvjgsbL"
      },
      "execution_count": null,
      "outputs": []
    },
    {
      "cell_type": "code",
      "source": [
        "L.insert(3,100)"
      ],
      "metadata": {
        "id": "GQiflvELhodF"
      },
      "execution_count": null,
      "outputs": []
    },
    {
      "cell_type": "code",
      "source": [
        "print(L)"
      ],
      "metadata": {
        "colab": {
          "base_uri": "https://localhost:8080/"
        },
        "id": "-t-xEnTVkYP9",
        "outputId": "e1e324ca-6e60-4881-84f8-03d3d792e0bb"
      },
      "execution_count": null,
      "outputs": [
        {
          "output_type": "stream",
          "name": "stdout",
          "text": [
            "5->3->1\n"
          ]
        }
      ]
    },
    {
      "cell_type": "code",
      "source": [
        "len(L)"
      ],
      "metadata": {
        "colab": {
          "base_uri": "https://localhost:8080/"
        },
        "id": "B6YPPOKHkgWJ",
        "outputId": "d7f590c1-894c-4514-ee57-7d437d5a2c43"
      },
      "execution_count": null,
      "outputs": [
        {
          "output_type": "execute_result",
          "data": {
            "text/plain": [
              "3"
            ]
          },
          "metadata": {},
          "execution_count": 435
        }
      ]
    },
    {
      "cell_type": "code",
      "source": [
        "L.clear()"
      ],
      "metadata": {
        "id": "VuKFyld4m7tg"
      },
      "execution_count": null,
      "outputs": []
    },
    {
      "cell_type": "code",
      "source": [
        "class Node:\n",
        "\n",
        "  def __init__(self,data):\n",
        "    self.data = data\n",
        "    self.next = None"
      ],
      "metadata": {
        "id": "4x8QQkhBnXEk"
      },
      "execution_count": null,
      "outputs": []
    },
    {
      "cell_type": "code",
      "source": [
        "class LL:\n",
        "\n",
        "  def __init__(self):\n",
        "    self.head = None\n",
        "\n",
        "  def add(self, data):\n",
        "    new_node = Node(data)  # Create a new node with the given data\n",
        "    if self.head is None:\n",
        "        self.head = new_node\n",
        "    else:\n",
        "        temp = self.head\n",
        "        while temp.next:\n",
        "            temp = temp.next\n",
        "        temp.next = new_node\n",
        "\n",
        "\n",
        "  def taverse(self):\n",
        "    temp = self.head\n",
        "    while temp:\n",
        "      print(temp.data,end='')\n",
        "      temp = temp.next\n",
        "\n",
        "  def change_sentence(self):\n",
        "    temp = self.head\n",
        "    while temp!=None:\n",
        "      if temp.data == '/' or temp.data == '*':\n",
        "        temp.data = ' '\n",
        "        if temp.next.data == '/' or temp.next.data == '*':\n",
        "          temp.next.next.data = temp.next.next.data.upper()\n",
        "          temp.next = temp.next.next\n",
        "      temp = temp.next\n",
        "\n"
      ],
      "metadata": {
        "id": "V8TDwIqFiZqj"
      },
      "execution_count": null,
      "outputs": []
    },
    {
      "cell_type": "code",
      "source": [
        "L = LL()"
      ],
      "metadata": {
        "id": "rrnobhWejDW_"
      },
      "execution_count": null,
      "outputs": []
    },
    {
      "cell_type": "code",
      "source": [
        "L.taverse()"
      ],
      "metadata": {
        "colab": {
          "base_uri": "https://localhost:8080/"
        },
        "id": "UG3t3Qr4jRPz",
        "outputId": "f7f52a88-d30e-401f-e43e-fe112fec8d4f"
      },
      "execution_count": null,
      "outputs": [
        {
          "output_type": "stream",
          "name": "stdout",
          "text": [
            "THE Sky is Blue"
          ]
        }
      ]
    },
    {
      "cell_type": "code",
      "source": [
        "L.add('T')\n",
        "L.add('H')\n",
        "L.add('E')\n",
        "L.add('*')\n",
        "L.add('/')\n",
        "L.add('s')\n",
        "L.add('k')\n",
        "L.add('y')\n",
        "L.add('*')\n",
        "L.add('i')\n",
        "L.add('s')\n",
        "L.add('/')\n",
        "L.add('/')\n",
        "L.add('b')\n",
        "L.add('l')\n",
        "L.add('u')\n",
        "L.add('e')"
      ],
      "metadata": {
        "id": "kthA86BdjUoS"
      },
      "execution_count": null,
      "outputs": []
    },
    {
      "cell_type": "code",
      "source": [
        "L.change_sentence()"
      ],
      "metadata": {
        "id": "j5FPf2zajcHe"
      },
      "execution_count": null,
      "outputs": []
    },
    {
      "cell_type": "code",
      "source": [],
      "metadata": {
        "id": "sPGwDRZRnV6p"
      },
      "execution_count": null,
      "outputs": []
    }
  ]
}