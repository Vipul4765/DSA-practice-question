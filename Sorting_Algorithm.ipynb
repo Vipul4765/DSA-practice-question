{
  "nbformat": 4,
  "nbformat_minor": 0,
  "metadata": {
    "colab": {
      "provenance": [],
      "authorship_tag": "ABX9TyNcB4qoF3AReS6hRlX4H1B9",
      "include_colab_link": true
    },
    "kernelspec": {
      "name": "python3",
      "display_name": "Python 3"
    },
    "language_info": {
      "name": "python"
    }
  },
  "cells": [
    {
      "cell_type": "markdown",
      "metadata": {
        "id": "view-in-github",
        "colab_type": "text"
      },
      "source": [
        "<a href=\"https://colab.research.google.com/github/Vipul4765/DSA-practice-question/blob/main/Sorting_Algorithm.ipynb\" target=\"_parent\"><img src=\"https://colab.research.google.com/assets/colab-badge.svg\" alt=\"Open In Colab\"/></a>"
      ]
    },
    {
      "cell_type": "code",
      "source": [
        "#Bubble sort\n",
        "def bubbleSort(arr):\n",
        "  n = len(arr)\n",
        "  for i in range(n):\n",
        "    for j in range(1,n-i):\n",
        "      if arr[j-1] > arr[j]:\n",
        "        arr[j-1],arr[j] = arr[j],arr[j-1]"
      ],
      "metadata": {
        "id": "IofbW0VMOjM-"
      },
      "execution_count": null,
      "outputs": []
    },
    {
      "cell_type": "code",
      "source": [
        "arr = [6,6,1,32,43,21,3,45,34,7,8,78,678,7,8,8]\n",
        "bubbleSort(arr)"
      ],
      "metadata": {
        "id": "gTGQQGkAPAHp"
      },
      "execution_count": null,
      "outputs": []
    },
    {
      "cell_type": "code",
      "source": [
        "arr"
      ],
      "metadata": {
        "colab": {
          "base_uri": "https://localhost:8080/"
        },
        "id": "26jKCkqDPHyo",
        "outputId": "49d93e97-9b41-4441-b824-81966f1fa869"
      },
      "execution_count": null,
      "outputs": [
        {
          "output_type": "execute_result",
          "data": {
            "text/plain": [
              "[1, 3, 6, 6, 7, 7, 8, 8, 8, 21, 32, 34, 43, 45, 78, 678]"
            ]
          },
          "metadata": {},
          "execution_count": 11
        }
      ]
    },
    {
      "cell_type": "code",
      "source": [
        "#optimize Bubble sort\n",
        "def bubbleSort(arr):\n",
        "  n = len(arr)\n",
        "  for i in range(n):\n",
        "    flag = False\n",
        "    for j in range(1,n-i):\n",
        "      if arr[j-1] > arr[j]:\n",
        "        arr[j-1],arr[j] = arr[j],arr[j-1]\n",
        "        flag = True\n",
        "    if flag == False:\n",
        "      return"
      ],
      "metadata": {
        "id": "JqkKX6UBPTwk"
      },
      "execution_count": null,
      "outputs": []
    },
    {
      "cell_type": "code",
      "source": [
        "arr = [6,6,1,32,43,21,3,45,34,7,8,78,678,7,8,8]\n",
        "bubbleSort(arr)\n",
        "arr"
      ],
      "metadata": {
        "colab": {
          "base_uri": "https://localhost:8080/"
        },
        "id": "ZbVdL2XnQ4XH",
        "outputId": "857c77cf-ec37-4641-9ea5-f0d76d8aabb4"
      },
      "execution_count": null,
      "outputs": [
        {
          "output_type": "execute_result",
          "data": {
            "text/plain": [
              "[1, 3, 6, 6, 7, 7, 8, 8, 8, 21, 32, 34, 43, 45, 78, 678]"
            ]
          },
          "metadata": {},
          "execution_count": 19
        }
      ]
    },
    {
      "cell_type": "code",
      "source": [
        "#Selection Sort\n",
        "def selectionSort(arr):\n",
        "  n = len(arr)\n",
        "  for i in range(0,n):\n",
        "    min_idx = i\n",
        "    for j in range(i+1,n):\n",
        "      if arr[j] < arr[min_idx]:\n",
        "        min_idx = j\n",
        "    arr[i],arr[min_idx] = arr[min_idx],arr[i]\n"
      ],
      "metadata": {
        "id": "jvQ1F3zzQ7_p"
      },
      "execution_count": null,
      "outputs": []
    },
    {
      "cell_type": "code",
      "source": [
        "arr = [6,6,1,32,43,21,3,45,34,7,8,78,678,7,8,8]\n",
        "selectionSort(arr)\n",
        "arr"
      ],
      "metadata": {
        "colab": {
          "base_uri": "https://localhost:8080/"
        },
        "id": "bMUkHS8MSioz",
        "outputId": "0e387331-cb0c-48a6-b2a8-3b2806fc4868"
      },
      "execution_count": null,
      "outputs": [
        {
          "output_type": "execute_result",
          "data": {
            "text/plain": [
              "[1, 3, 6, 6, 7, 7, 8, 8, 8, 21, 32, 34, 43, 45, 78, 678]"
            ]
          },
          "metadata": {},
          "execution_count": 34
        }
      ]
    },
    {
      "cell_type": "code",
      "source": [
        "def selectionSort(arr):\n",
        "    n = len(arr)\n",
        "    for i in range(n):\n",
        "        min_idx = i\n",
        "        for j in range(i + 1, n):\n",
        "            if arr[j] > arr[min_idx]:  # Compare with arr[min_idx] for descending order\n",
        "                min_idx = j\n",
        "        arr[i], arr[min_idx] = arr[min_idx], arr[i]\n",
        "\n",
        "    return arr\n"
      ],
      "metadata": {
        "id": "hfLOPUfqSmmI"
      },
      "execution_count": null,
      "outputs": []
    },
    {
      "cell_type": "code",
      "source": [
        "arr = [6,6,1,32,43,21,3,45,34,7,8,78,678,7,8,8]\n",
        "selectionSort(arr)\n",
        "arr"
      ],
      "metadata": {
        "colab": {
          "base_uri": "https://localhost:8080/"
        },
        "id": "t4272rzmW9sP",
        "outputId": "ec6647ab-a7df-4d23-cf6d-dc178a34a64a"
      },
      "execution_count": null,
      "outputs": [
        {
          "output_type": "execute_result",
          "data": {
            "text/plain": [
              "[1, 3, 6, 6, 7, 7, 8, 8, 8, 21, 32, 34, 43, 45, 78, 678]"
            ]
          },
          "metadata": {},
          "execution_count": 35
        }
      ]
    },
    {
      "cell_type": "code",
      "source": [
        "def insertion_sort(l):\n",
        "  for i in range(1,len(l)):\n",
        "    x = l[i]\n",
        "    j = i-1\n",
        "\n",
        "    while j>=0 and x<l[j]:\n",
        "      l[j+1] = l[j]\n",
        "      j = j-1\n",
        "\n",
        "    l[j+1] = x"
      ],
      "metadata": {
        "id": "K5RxaZivW-J7"
      },
      "execution_count": null,
      "outputs": []
    },
    {
      "cell_type": "code",
      "source": [
        "l = [2,1,2,3,4,2,1,3,4,5,6,44,34,6,5,4,3,1,1]"
      ],
      "metadata": {
        "id": "-0YFFDH-Xomp"
      },
      "execution_count": null,
      "outputs": []
    },
    {
      "cell_type": "code",
      "source": [
        "insertion_sort(l)"
      ],
      "metadata": {
        "id": "ekt3h7nsXyQa"
      },
      "execution_count": null,
      "outputs": []
    },
    {
      "cell_type": "code",
      "source": [
        "l"
      ],
      "metadata": {
        "id": "-3U8LaB3X0a0",
        "outputId": "88604dbf-8339-4f5c-b1f2-f559415e69c1",
        "colab": {
          "base_uri": "https://localhost:8080/"
        }
      },
      "execution_count": null,
      "outputs": [
        {
          "output_type": "execute_result",
          "data": {
            "text/plain": [
              "[1, 1, 1, 1, 2, 2, 2, 3, 3, 3, 4, 4, 4, 5, 5, 6, 6, 34, 44]"
            ]
          },
          "metadata": {},
          "execution_count": 40
        }
      ]
    },
    {
      "cell_type": "code",
      "source": [
        "s = 'I am vipul kumar'\n",
        "new_list = s.split()\n",
        "print(new_list)"
      ],
      "metadata": {
        "id": "wi55wgj_X1cc",
        "colab": {
          "base_uri": "https://localhost:8080/"
        },
        "outputId": "d757e2d9-6788-48c6-cff4-2a373131c959"
      },
      "execution_count": null,
      "outputs": [
        {
          "output_type": "stream",
          "name": "stdout",
          "text": [
            "['I', 'am', 'vipul', 'kumar']\n"
          ]
        }
      ]
    },
    {
      "cell_type": "code",
      "source": [],
      "metadata": {
        "id": "9d36EKN5MMlo"
      },
      "execution_count": null,
      "outputs": []
    }
  ]
}