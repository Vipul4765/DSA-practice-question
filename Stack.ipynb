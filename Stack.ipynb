{
  "nbformat": 4,
  "nbformat_minor": 0,
  "metadata": {
    "colab": {
      "provenance": [],
      "toc_visible": true,
      "authorship_tag": "ABX9TyNh1yIDDR+JwpGrW7yZlJLm",
      "include_colab_link": true
    },
    "kernelspec": {
      "name": "python3",
      "display_name": "Python 3"
    },
    "language_info": {
      "name": "python"
    }
  },
  "cells": [
    {
      "cell_type": "markdown",
      "metadata": {
        "id": "view-in-github",
        "colab_type": "text"
      },
      "source": [
        "<a href=\"https://colab.research.google.com/github/Vipul4765/DSA-practice-question/blob/main/Stack.ipynb\" target=\"_parent\"><img src=\"https://colab.research.google.com/assets/colab-badge.svg\" alt=\"Open In Colab\"/></a>"
      ]
    },
    {
      "cell_type": "code",
      "execution_count": null,
      "metadata": {
        "id": "zfW8xfeBfhby"
      },
      "outputs": [],
      "source": [
        "class Node:\n",
        "  def __init__(self,value):\n",
        "    self.data = value\n",
        "    self.next = None"
      ]
    },
    {
      "cell_type": "code",
      "source": [
        "class Stack:\n",
        "\n",
        "  def __init__(self):\n",
        "    self.top = None\n",
        "\n",
        "  def isempty(self):\n",
        "    return self.top ==None\n",
        "\n",
        "  def push(self,data):\n",
        "    new_node = Node(data)\n",
        "    new_node.next = self.top\n",
        "    self.top = new_node\n",
        "\n",
        "  def pop(self):\n",
        "    if self.isempty():\n",
        "      return 'Stack is Empty'\n",
        "    print(self.top.data)\n",
        "    self.top = self.top.next\n",
        "\n",
        "  def traverse(self):\n",
        "    temp = self.top\n",
        "    while temp:\n",
        "      print(temp.data)\n",
        "      temp = temp.next\n",
        "\n",
        "  def peak(self):\n",
        "    if self.isempty():\n",
        "      return 'Stack Empty'\n",
        "    else:\n",
        "      return self.top.data\n",
        "\n",
        "  def size(self):\n",
        "    counter = 0\n",
        "    temp = self.top\n",
        "    while temp:\n",
        "      counter+=1\n",
        "      temp = temp.next\n",
        "    return counter"
      ],
      "metadata": {
        "id": "WN0yRqYskblY"
      },
      "execution_count": null,
      "outputs": []
    },
    {
      "cell_type": "code",
      "source": [
        "s = Stack()"
      ],
      "metadata": {
        "id": "YnXs5jYxnMnT"
      },
      "execution_count": null,
      "outputs": []
    },
    {
      "cell_type": "code",
      "source": [
        "s.isempty()"
      ],
      "metadata": {
        "colab": {
          "base_uri": "https://localhost:8080/"
        },
        "id": "JDa0c3gNnS6l",
        "outputId": "79467da6-1993-460c-f30b-e884d51df2bc"
      },
      "execution_count": null,
      "outputs": [
        {
          "output_type": "execute_result",
          "data": {
            "text/plain": [
              "True"
            ]
          },
          "metadata": {},
          "execution_count": 255
        }
      ]
    },
    {
      "cell_type": "code",
      "source": [
        "s.push('H')\n",
        "s.push('L')\n",
        "s.push('L')\n",
        "s.push('O')\n"
      ],
      "metadata": {
        "id": "jCAhsLrcnXvS"
      },
      "execution_count": null,
      "outputs": []
    },
    {
      "cell_type": "code",
      "source": [
        "s.traverse()"
      ],
      "metadata": {
        "colab": {
          "base_uri": "https://localhost:8080/"
        },
        "id": "340VhnexnZT5",
        "outputId": "539dfd94-3201-44ea-db88-7616b1d236ab"
      },
      "execution_count": null,
      "outputs": [
        {
          "output_type": "stream",
          "name": "stdout",
          "text": [
            "O\n",
            "L\n",
            "L\n",
            "H\n"
          ]
        }
      ]
    },
    {
      "cell_type": "code",
      "source": [
        "s.peak()"
      ],
      "metadata": {
        "colab": {
          "base_uri": "https://localhost:8080/"
        },
        "id": "46hLIDvlni8B",
        "outputId": "00121240-28bb-47c3-82be-f90abee45a04"
      },
      "execution_count": null,
      "outputs": [
        {
          "output_type": "execute_result",
          "data": {
            "text/plain": [
              "4"
            ]
          },
          "metadata": {},
          "execution_count": 163
        }
      ]
    },
    {
      "cell_type": "code",
      "source": [
        "s.pop()"
      ],
      "metadata": {
        "colab": {
          "base_uri": "https://localhost:8080/"
        },
        "id": "W_aINUBPpc5i",
        "outputId": "8a179536-587e-49a5-b2a4-689aab0b921e"
      },
      "execution_count": null,
      "outputs": [
        {
          "output_type": "stream",
          "name": "stdout",
          "text": [
            "O\n"
          ]
        }
      ]
    },
    {
      "cell_type": "code",
      "source": [
        "s.size()"
      ],
      "metadata": {
        "colab": {
          "base_uri": "https://localhost:8080/"
        },
        "id": "1f-_cNerrtfU",
        "outputId": "465e4ac0-a380-4f03-8f32-143a110e7b4f"
      },
      "execution_count": null,
      "outputs": [
        {
          "output_type": "execute_result",
          "data": {
            "text/plain": [
              "2"
            ]
          },
          "metadata": {},
          "execution_count": 165
        }
      ]
    },
    {
      "cell_type": "code",
      "source": [
        "#Reverse string using stack\n",
        "class Node:\n",
        "\n",
        "  def __init__(self,data):\n",
        "    self.data = data\n",
        "    self.next = None"
      ],
      "metadata": {
        "id": "nBDv5ZxFs5Kb"
      },
      "execution_count": null,
      "outputs": []
    },
    {
      "cell_type": "code",
      "source": [
        "class Stack:\n",
        "\n",
        "  def __init__(self):\n",
        "    self.top = None\n",
        "\n",
        "  def push(self,data):\n",
        "    new_node = Node(data)\n",
        "    new_node.next = self.top\n",
        "    self.top = new_node\n",
        "\n",
        "  def pop(self):\n",
        "    result = ''\n",
        "    temp = self.top\n",
        "    while temp:\n",
        "      result += temp.data\n",
        "      temp = temp.next\n",
        "    return result\n",
        "  def size(self):\n",
        "    counter = 0\n",
        "    temp = self.top\n",
        "    while temp:\n",
        "      counter+=1\n",
        "      temp = temp.next\n",
        "    return counter\n",
        "\n",
        "  def traverse(self):\n",
        "    temp = self.top\n",
        "    while temp:\n",
        "      print(temp.data)\n",
        "      temp = temp.next"
      ],
      "metadata": {
        "id": "uGU9fwgcwqQr"
      },
      "execution_count": null,
      "outputs": []
    },
    {
      "cell_type": "code",
      "source": [
        "s = Stack()"
      ],
      "metadata": {
        "id": "A-8aPb6ywuYI"
      },
      "execution_count": null,
      "outputs": []
    },
    {
      "cell_type": "code",
      "source": [
        "for i in 'Hello':\n",
        "  s.push(i)"
      ],
      "metadata": {
        "id": "hPcF1z5MxVN5"
      },
      "execution_count": null,
      "outputs": []
    },
    {
      "cell_type": "code",
      "source": [
        "s.pop()"
      ],
      "metadata": {
        "colab": {
          "base_uri": "https://localhost:8080/",
          "height": 35
        },
        "id": "ZX5SvrsLxgTN",
        "outputId": "953617e6-b0c7-4fc3-b493-1494b336cdff"
      },
      "execution_count": null,
      "outputs": [
        {
          "output_type": "execute_result",
          "data": {
            "text/plain": [
              "'olleH'"
            ],
            "application/vnd.google.colaboratory.intrinsic+json": {
              "type": "string"
            }
          },
          "metadata": {},
          "execution_count": 215
        }
      ]
    },
    {
      "cell_type": "code",
      "source": [
        "#Pattern question on undo redo operation\n",
        "class Node:\n",
        "\n",
        "  def __init__(self,data):\n",
        "    self.data = data\n",
        "    self.next = None\n"
      ],
      "metadata": {
        "id": "6emZ1yCCxj4J"
      },
      "execution_count": null,
      "outputs": []
    },
    {
      "cell_type": "code",
      "source": [
        "class stack:\n",
        "\n",
        "  def __init__(self):\n",
        "    self.top = None\n",
        "\n",
        "  def push(self,value):\n",
        "    new_node = Node(value)\n",
        "    new_node.next = self.top\n",
        "    self.top = new_node\n",
        "\n",
        "  def pop(self):\n",
        "    if self.top == None:\n",
        "      return 'Empty'\n",
        "    data = self.top.data\n",
        "    self.top = self.top.next\n",
        "    return data\n",
        "  def size(self):\n",
        "    counter = 0\n",
        "    temp = self.top\n",
        "    while temp:\n",
        "      counter+=1\n",
        "      temp = temp.next\n",
        "    return counter\n",
        "  def traverse(self):\n",
        "    temp = self.top\n",
        "    while temp:\n",
        "      print(temp.data)\n",
        "      temp = temp.next"
      ],
      "metadata": {
        "id": "ZbdY_zfP0WcR"
      },
      "execution_count": null,
      "outputs": []
    },
    {
      "cell_type": "code",
      "source": [
        "def text_editor(text,pattern):\n",
        "  u = stack()\n",
        "  r = stack()\n",
        "\n",
        "  for i in text:\n",
        "    u.push(i)\n",
        "\n",
        "  for i in pattern:\n",
        "    if i == 'u':\n",
        "      data = u.pop()\n",
        "      r.push(data)\n",
        "    else:\n",
        "      data = r.pop()\n",
        "      u.push(data)\n",
        "\n",
        "  result = ''\n",
        "  while u.top is not None:\n",
        "      result = u.pop() + result\n",
        "  print(result)\n",
        "\n"
      ],
      "metadata": {
        "id": "utizcBgn0xYX"
      },
      "execution_count": null,
      "outputs": []
    },
    {
      "cell_type": "code",
      "source": [
        "text_editor('kolkata','uurruru')\n"
      ],
      "metadata": {
        "colab": {
          "base_uri": "https://localhost:8080/"
        },
        "id": "iDyNvBI91WXm",
        "outputId": "2edb837d-8a68-46b1-8e91-dac41f946c94"
      },
      "execution_count": null,
      "outputs": [
        {
          "output_type": "stream",
          "name": "stdout",
          "text": [
            "kolkat\n"
          ]
        }
      ]
    },
    {
      "cell_type": "code",
      "source": [
        "# Celebrity Problem\n",
        "L = [\n",
        "    [0,0,1,1],\n",
        "    [0,0,0,0],\n",
        "    [1,0,0,0],\n",
        "    [0,0,1,0]\n",
        "]\n",
        "\n",
        "\n"
      ],
      "metadata": {
        "id": "ijUDGQ821wEr"
      },
      "execution_count": null,
      "outputs": []
    },
    {
      "cell_type": "code",
      "source": [
        "def find_the_celeb(L):\n",
        "  s = stack()\n",
        "  for i in range(len(L)):\n",
        "    s.push(i)\n",
        "\n",
        "  while s.size() >= 2:\n",
        "    i = s.pop()\n",
        "    j = s.pop()\n",
        "    if L[i][j] == 0:\n",
        "      #j is not celebrity\n",
        "      s.push(i)\n",
        "    else:\n",
        "      #i is not celebrity\n",
        "      s.push(j)\n",
        "\n",
        "    celeb = s.pop()\n",
        "    for i in range(len(L)):\n",
        "      if i != celeb:\n",
        "        if L[i][celeb] == 0 or L[celeb][i] == 1:\n",
        "          return 'No one celeb'\n",
        "    return celeb\n",
        "\n",
        "\n"
      ],
      "metadata": {
        "id": "snCuoY1S-Bd_"
      },
      "execution_count": null,
      "outputs": []
    },
    {
      "cell_type": "code",
      "source": [
        "import math"
      ],
      "metadata": {
        "id": "mLxLnZ41-8_a"
      },
      "execution_count": null,
      "outputs": []
    },
    {
      "cell_type": "code",
      "source": [
        "print(math.ceil(4.1))\n",
        "print(math.floor(4.4))"
      ],
      "metadata": {
        "colab": {
          "base_uri": "https://localhost:8080/"
        },
        "id": "SEEBTfte_lm3",
        "outputId": "6bf08dc4-18bf-4051-e7c0-d9d016063d8e"
      },
      "execution_count": null,
      "outputs": [
        {
          "output_type": "stream",
          "name": "stdout",
          "text": [
            "5\n",
            "4\n"
          ]
        }
      ]
    },
    {
      "cell_type": "code",
      "source": [
        "class Node:\n",
        "\n",
        "  def __init__(self,value):\n",
        "    self.data = value\n",
        "    self.next = None"
      ],
      "metadata": {
        "id": "RVp6td0eSCzG"
      },
      "execution_count": 5,
      "outputs": []
    },
    {
      "cell_type": "code",
      "source": [
        "class Stack:\n",
        "\n",
        "  def __init__(self):\n",
        "    self.top = None\n",
        "\n",
        "  def is_empty(self):\n",
        "    return self.top\n",
        "\n",
        "  def peak(self):\n",
        "    if self.is_empty:\n",
        "      return 'Empty Stack'\n",
        "    return self.top\n",
        "\n",
        "  def push(self,value):\n",
        "    new_node = Node(value)\n",
        "    new_node.next = self.top\n",
        "    self.top = new_node\n",
        "\n",
        "  def pop(self):\n",
        "    if self.is_empty:\n",
        "      return 'Stack is Empty'\n",
        "    data = self.top.data\n",
        "    self.top = self.top.next\n",
        "    return data"
      ],
      "metadata": {
        "id": "8R8DPA6_nlj0"
      },
      "execution_count": 25,
      "outputs": []
    },
    {
      "cell_type": "code",
      "source": [],
      "metadata": {
        "id": "8_lVdzVCn4Dn"
      },
      "execution_count": 16,
      "outputs": []
    },
    {
      "cell_type": "code",
      "source": [
        "brackets = \"[{}]()\"\n",
        "s = Stack()\n",
        "\n",
        "balanced = True\n",
        "opening_brackets = [\"[\", \"{\", \"(\"]\n",
        "closing_brackets = [\"]\", \"}\", \")\"]\n",
        "\n",
        "for i in brackets:\n",
        "    if i in opening_brackets:\n",
        "        s.push(i)\n",
        "    elif i in closing_brackets:\n",
        "        if s.is_empty() or opening_brackets.index(s.peak()) != closing_brackets.index(i):\n",
        "            balanced = False\n",
        "            break\n",
        "        s.pop()\n",
        "\n",
        "if balanced and s.is_empty():\n",
        "    print(\"Brackets are balanced\")\n",
        "else:\n",
        "    print(\"Brackets are not balanced\")\n"
      ],
      "metadata": {
        "colab": {
          "base_uri": "https://localhost:8080/",
          "height": 235
        },
        "id": "SFG6p50ipJjI",
        "outputId": "c89357f1-e0ca-4a97-de4e-34f9c0dd3f85"
      },
      "execution_count": 26,
      "outputs": [
        {
          "output_type": "error",
          "ename": "ValueError",
          "evalue": "ignored",
          "traceback": [
            "\u001b[0;31m---------------------------------------------------------------------------\u001b[0m",
            "\u001b[0;31mValueError\u001b[0m                                Traceback (most recent call last)",
            "\u001b[0;32m<ipython-input-26-d879e3241767>\u001b[0m in \u001b[0;36m<cell line: 8>\u001b[0;34m()\u001b[0m\n\u001b[1;32m     10\u001b[0m         \u001b[0ms\u001b[0m\u001b[0;34m.\u001b[0m\u001b[0mpush\u001b[0m\u001b[0;34m(\u001b[0m\u001b[0mi\u001b[0m\u001b[0;34m)\u001b[0m\u001b[0;34m\u001b[0m\u001b[0;34m\u001b[0m\u001b[0m\n\u001b[1;32m     11\u001b[0m     \u001b[0;32melif\u001b[0m \u001b[0mi\u001b[0m \u001b[0;32min\u001b[0m \u001b[0mclosing_brackets\u001b[0m\u001b[0;34m:\u001b[0m\u001b[0;34m\u001b[0m\u001b[0;34m\u001b[0m\u001b[0m\n\u001b[0;32m---> 12\u001b[0;31m         \u001b[0;32mif\u001b[0m \u001b[0ms\u001b[0m\u001b[0;34m.\u001b[0m\u001b[0mis_empty\u001b[0m\u001b[0;34m(\u001b[0m\u001b[0;34m)\u001b[0m \u001b[0;32mor\u001b[0m \u001b[0mopening_brackets\u001b[0m\u001b[0;34m.\u001b[0m\u001b[0mindex\u001b[0m\u001b[0;34m(\u001b[0m\u001b[0ms\u001b[0m\u001b[0;34m.\u001b[0m\u001b[0mpeak\u001b[0m\u001b[0;34m(\u001b[0m\u001b[0;34m)\u001b[0m\u001b[0;34m)\u001b[0m \u001b[0;34m!=\u001b[0m \u001b[0mclosing_brackets\u001b[0m\u001b[0;34m.\u001b[0m\u001b[0mindex\u001b[0m\u001b[0;34m(\u001b[0m\u001b[0mi\u001b[0m\u001b[0;34m)\u001b[0m\u001b[0;34m:\u001b[0m\u001b[0;34m\u001b[0m\u001b[0;34m\u001b[0m\u001b[0m\n\u001b[0m\u001b[1;32m     13\u001b[0m             \u001b[0mbalanced\u001b[0m \u001b[0;34m=\u001b[0m \u001b[0;32mFalse\u001b[0m\u001b[0;34m\u001b[0m\u001b[0;34m\u001b[0m\u001b[0m\n\u001b[1;32m     14\u001b[0m             \u001b[0;32mbreak\u001b[0m\u001b[0;34m\u001b[0m\u001b[0;34m\u001b[0m\u001b[0m\n",
            "\u001b[0;31mValueError\u001b[0m: 'Empty Stack' is not in list"
          ]
        }
      ]
    },
    {
      "cell_type": "code",
      "source": [],
      "metadata": {
        "colab": {
          "base_uri": "https://localhost:8080/",
          "height": 322
        },
        "id": "ZdpS4Gq8sGOL",
        "outputId": "2e5c752b-7868-4c41-ca26-72cb513d8bf8"
      },
      "execution_count": 20,
      "outputs": [
        {
          "output_type": "error",
          "ename": "ValueError",
          "evalue": "ignored",
          "traceback": [
            "\u001b[0;31m---------------------------------------------------------------------------\u001b[0m",
            "\u001b[0;31mValueError\u001b[0m                                Traceback (most recent call last)",
            "\u001b[0;32m<ipython-input-20-5f8c38d31186>\u001b[0m in \u001b[0;36m<cell line: 2>\u001b[0;34m()\u001b[0m\n\u001b[1;32m      1\u001b[0m \u001b[0mbracket\u001b[0m \u001b[0;34m=\u001b[0m \u001b[0;34m\"[{}]()\"\u001b[0m\u001b[0;34m\u001b[0m\u001b[0;34m\u001b[0m\u001b[0m\n\u001b[0;32m----> 2\u001b[0;31m \u001b[0mbalanced\u001b[0m \u001b[0;34m=\u001b[0m \u001b[0mis_balanced\u001b[0m\u001b[0;34m(\u001b[0m\u001b[0mbracket\u001b[0m\u001b[0;34m)\u001b[0m\u001b[0;34m\u001b[0m\u001b[0;34m\u001b[0m\u001b[0m\n\u001b[0m\u001b[1;32m      3\u001b[0m \u001b[0mprint\u001b[0m\u001b[0;34m(\u001b[0m\u001b[0mbalanced\u001b[0m\u001b[0;34m)\u001b[0m\u001b[0;34m\u001b[0m\u001b[0;34m\u001b[0m\u001b[0m\n",
            "\u001b[0;32m<ipython-input-19-139de8d1281d>\u001b[0m in \u001b[0;36mis_balanced\u001b[0;34m(brackets)\u001b[0m\n\u001b[1;32m      9\u001b[0m             \u001b[0;32mif\u001b[0m \u001b[0ms\u001b[0m\u001b[0;34m.\u001b[0m\u001b[0mis_empty\u001b[0m\u001b[0;34m(\u001b[0m\u001b[0;34m)\u001b[0m \u001b[0;34m==\u001b[0m \u001b[0;32mFalse\u001b[0m\u001b[0;34m:\u001b[0m\u001b[0;34m\u001b[0m\u001b[0;34m\u001b[0m\u001b[0m\n\u001b[1;32m     10\u001b[0m                 \u001b[0mlast_opening_bracket\u001b[0m \u001b[0;34m=\u001b[0m \u001b[0ms\u001b[0m\u001b[0;34m.\u001b[0m\u001b[0mpop\u001b[0m\u001b[0;34m(\u001b[0m\u001b[0;34m)\u001b[0m\u001b[0;34m\u001b[0m\u001b[0;34m\u001b[0m\u001b[0m\n\u001b[0;32m---> 11\u001b[0;31m                 \u001b[0;32mif\u001b[0m \u001b[0mopening_brackets\u001b[0m\u001b[0;34m.\u001b[0m\u001b[0mindex\u001b[0m\u001b[0;34m(\u001b[0m\u001b[0mlast_opening_bracket\u001b[0m\u001b[0;34m)\u001b[0m \u001b[0;34m!=\u001b[0m \u001b[0mclosing_brackets\u001b[0m\u001b[0;34m.\u001b[0m\u001b[0mindex\u001b[0m\u001b[0;34m(\u001b[0m\u001b[0mi\u001b[0m\u001b[0;34m)\u001b[0m\u001b[0;34m:\u001b[0m\u001b[0;34m\u001b[0m\u001b[0;34m\u001b[0m\u001b[0m\n\u001b[0m\u001b[1;32m     12\u001b[0m                     \u001b[0;32mreturn\u001b[0m \u001b[0;32mFalse\u001b[0m\u001b[0;34m\u001b[0m\u001b[0;34m\u001b[0m\u001b[0m\n\u001b[1;32m     13\u001b[0m             \u001b[0;32melse\u001b[0m\u001b[0;34m:\u001b[0m\u001b[0;34m\u001b[0m\u001b[0;34m\u001b[0m\u001b[0m\n",
            "\u001b[0;31mValueError\u001b[0m: 'Stack is Empty' is not in list"
          ]
        }
      ]
    },
    {
      "cell_type": "code",
      "source": [
        "class Node:\n",
        "    def __init__(self, data):\n",
        "        self.data = data\n",
        "        self.next = None\n",
        "\n",
        "\n",
        "class Stack:\n",
        "    def __init__(self):\n",
        "        self.top = None\n",
        "\n",
        "    def is_empty(self):\n",
        "        return self.top is None\n",
        "\n",
        "    def peek(self):\n",
        "        if self.is_empty():\n",
        "            return 'Empty Stack'\n",
        "        return self.top.data\n",
        "\n",
        "    def push(self, value):\n",
        "        new_node = Node(value)\n",
        "        new_node.next = self.top\n",
        "        self.top = new_node\n",
        "\n",
        "    def pop(self):\n",
        "        if self.is_empty():\n",
        "            return 'Stack is Empty'\n",
        "        data = self.top.data\n",
        "        self.top = self.top.next\n",
        "        return data\n",
        "\n",
        "\n",
        "brackets = \"[{}]())\"\n",
        "s = Stack()\n",
        "\n",
        "balanced = True\n",
        "opening_brackets = [\"[\", \"{\", \"(\"]\n",
        "closing_brackets = [\"]\", \"}\", \")\"]\n",
        "\n",
        "for i in brackets:\n",
        "    if i in opening_brackets:\n",
        "        s.push(i)\n",
        "    elif i in closing_brackets:\n",
        "        if s.is_empty() or opening_brackets.index(s.peek()) != closing_brackets.index(i):\n",
        "            balanced = False\n",
        "            break\n",
        "        s.pop()\n",
        "\n",
        "if balanced and s.is_empty():\n",
        "    print(\"Brackets are balanced\")\n",
        "else:\n",
        "    print(\"Brackets are not balanced\")\n"
      ],
      "metadata": {
        "colab": {
          "base_uri": "https://localhost:8080/"
        },
        "id": "pVgXij0Jsvv0",
        "outputId": "8b410b81-d0c4-444d-cde7-6d9fdf9f817f"
      },
      "execution_count": 22,
      "outputs": [
        {
          "output_type": "stream",
          "name": "stdout",
          "text": [
            "Brackets are not balanced\n"
          ]
        }
      ]
    },
    {
      "cell_type": "code",
      "source": [
        "\n"
      ],
      "metadata": {
        "id": "HKUDMyNUt_CQ"
      },
      "execution_count": 29,
      "outputs": []
    },
    {
      "cell_type": "code",
      "source": [],
      "metadata": {
        "id": "JTM9SWPbK1lE"
      },
      "execution_count": 36,
      "outputs": []
    },
    {
      "cell_type": "code",
      "source": [],
      "metadata": {
        "colab": {
          "base_uri": "https://localhost:8080/"
        },
        "id": "OvLJq9iBMeju",
        "outputId": "85d3424d-df38-453f-a324-e1bb431b8773"
      },
      "execution_count": 33,
      "outputs": [
        {
          "output_type": "execute_result",
          "data": {
            "text/plain": [
              "2"
            ]
          },
          "metadata": {},
          "execution_count": 33
        }
      ]
    },
    {
      "cell_type": "code",
      "source": [
        "\n",
        "\n"
      ],
      "metadata": {
        "id": "Nmow8z5lMgaT"
      },
      "execution_count": null,
      "outputs": []
    }
  ]
}